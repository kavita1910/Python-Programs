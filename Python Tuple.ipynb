{
 "cells": [
  {
   "cell_type": "markdown",
   "metadata": {},
   "source": [
    "# Python Tuple\n",
    "Tuple is a collection of Python objects much like a list. The sequence of values stored in a tuple can be of any type, and they are indexed by integers. Values of a tuple are syntactically separated by ‘commas’. Although it is not necessary, it is more common to define a tuple by closing the sequence of values in parentheses. Note – Creation of Python tuple without the use of parentheses is known as Tuple Packing."
   ]
  },
  {
   "cell_type": "code",
   "execution_count": 1,
   "metadata": {},
   "outputs": [
    {
     "name": "stdout",
     "output_type": "stream",
     "text": [
      "Initial tuple is:  ()\n",
      "\n",
      "tuple w the use of string :  ('hello', 'world')\n",
      "\n",
      "tuple w the use of int values :  (1, 2, 3, 4)\n"
     ]
    }
   ],
   "source": [
    "#creating an emply tuple\n",
    "tuple1 = ()\n",
    "print(\"Initial tuple is: \",tuple1)\n",
    "\n",
    "#creating tuple using string\n",
    "tuple1=('hello','world')\n",
    "print(\"\\ntuple w the use of string : \",tuple1)\n",
    "\n",
    "#creating tupke using integer values\n",
    "tuple1=(1,2,3,4)\n",
    "print(\"\\ntuple w the use of int values : \",tuple1)"
   ]
  },
  {
   "cell_type": "markdown",
   "metadata": {},
   "source": [
    "### Creating a Tuple with Mixed Datatypes.\n",
    "Tuples can contain any number of elements and of any datatype (like strings, integers, list, etc.)."
   ]
  },
  {
   "cell_type": "code",
   "execution_count": 4,
   "metadata": {},
   "outputs": [
    {
     "name": "stdout",
     "output_type": "stream",
     "text": [
      "\n",
      "Tuple with mixed datatypes :  (7, \"o'clock\", 'breakfast')\n",
      "\n",
      "tuples using nested tuples:  ((1, 2, 3, 4, 5), ('hello', 'world'))\n",
      "print tuple n time :  ('hello', 'hello', 'hello')\n",
      "Tuple using loops : \n",
      "('hello',)\n",
      "(('hello',),)\n",
      "((('hello',),),)\n",
      "(((('hello',),),),)\n",
      "((((('hello',),),),),)\n"
     ]
    }
   ],
   "source": [
    "Tuple1=(7,'o\\'clock','breakfast')\n",
    "print(\"\\nTuple with mixed datatypes : \",Tuple1)\n",
    "\n",
    "t1=(1,2,3,4,5)\n",
    "t2=('hello','world')\n",
    "t3=(t1 , t2)\n",
    "print(\"\\ntuples using nested tuples: \",t3)\n",
    "\n",
    "t1=('hello',)*3\n",
    "print(\"print tuple n time : \",t1)\n",
    "\n",
    "t1=('hello')\n",
    "n=5\n",
    "print(\"Tuple using loops : \")\n",
    "for i in range(int(n)):\n",
    "    t1 = (t1,)\n",
    "    print(t1)"
   ]
  },
  {
   "cell_type": "markdown",
   "metadata": {},
   "source": [
    "### Accessing of Tuples\n",
    "NOTE : In unpacking of tuple number of variables on left hand side should be equal to number of values in given tuple a."
   ]
  },
  {
   "cell_type": "code",
   "execution_count": 7,
   "metadata": {},
   "outputs": [
    {
     "name": "stdout",
     "output_type": "stream",
     "text": [
      "\n",
      "First element of Tuple: \n",
      "e\n",
      "\n",
      "Values after unpacking: \n",
      "abcd\n",
      "efgh\n",
      "ijkl\n"
     ]
    }
   ],
   "source": [
    "t1=tuple('hello')\n",
    "print(\"\\nFirst element of Tuple: \")\n",
    "print(t1[1])\n",
    "\n",
    "Tuple1 = (\"abcd\", \"efgh\", \"ijkl\") \n",
    "  \n",
    "#This line unpack  \n",
    "#values of Tuple1 \n",
    "a, b, c = Tuple1 \n",
    "print(\"\\nValues after unpacking: \") \n",
    "print(a) \n",
    "print(b) \n",
    "print(c)"
   ]
  },
  {
   "cell_type": "markdown",
   "metadata": {},
   "source": [
    "### Concatenation of Tuples\n",
    "Concatenation of tuples is done always from the end of the original tuple.Note- Only same datatypes can be combined with concatenation, an error arises if a list and a tuple are combined."
   ]
  },
  {
   "cell_type": "code",
   "execution_count": 9,
   "metadata": {},
   "outputs": [
    {
     "name": "stdout",
     "output_type": "stream",
     "text": [
      "Tuple 1: \n",
      "(0, 1, 2, 3)\n",
      "\n",
      "Tuple2: \n",
      "('Hello', 'world')\n",
      "\n",
      "Tuples after Concatenaton: \n",
      "(0, 1, 2, 3, 'Hello', 'world')\n"
     ]
    }
   ],
   "source": [
    "Tuple1 = (0, 1, 2, 3) \n",
    "Tuple2 = ('Hello', 'world') \n",
    "  \n",
    "Tuple3 = Tuple1 + Tuple2 \n",
    "  \n",
    "# Printing first Tuple \n",
    "print(\"Tuple 1: \") \n",
    "print(Tuple1) \n",
    "  \n",
    "# Printing Second Tuple \n",
    "print(\"\\nTuple2: \") \n",
    "print(Tuple2) \n",
    "  \n",
    "# Printing Final Tuple \n",
    "print(\"\\nTuples after Concatenaton: \") \n",
    "print(Tuple3) "
   ]
  },
  {
   "cell_type": "markdown",
   "metadata": {},
   "source": [
    "### Slicing of Tuple"
   ]
  },
  {
   "cell_type": "code",
   "execution_count": 10,
   "metadata": {},
   "outputs": [
    {
     "name": "stdout",
     "output_type": "stream",
     "text": [
      "Removal of First Element: \n",
      "('E', 'L', 'L', 'O', 'W', 'O', 'R', 'L', 'D', '!')\n",
      "\n",
      "Tuple after sequence of Element is reversed: \n",
      "('!', 'D', 'L', 'R', 'O', 'W', 'O', 'L', 'L', 'E', 'H')\n",
      "\n",
      "Printing elements between Range 4-9: \n",
      "('O', 'W', 'O', 'R', 'L')\n"
     ]
    }
   ],
   "source": [
    "Tuple1 = tuple('HELLOWORLD!') \n",
    "  \n",
    "# Removing First element \n",
    "print(\"Removal of First Element: \") \n",
    "print(Tuple1[1:]) \n",
    "  \n",
    "# Reversing the Tuple  \n",
    "print(\"\\nTuple after sequence of Element is reversed: \") \n",
    "print(Tuple1[::-1]) \n",
    "  \n",
    "# Printing elements of a Range \n",
    "print(\"\\nPrinting elements between Range 4-9: \") \n",
    "print(Tuple1[4:9])"
   ]
  },
  {
   "cell_type": "markdown",
   "metadata": {},
   "source": [
    "### Deleting a Tuple"
   ]
  },
  {
   "cell_type": "code",
   "execution_count": 11,
   "metadata": {},
   "outputs": [
    {
     "ename": "NameError",
     "evalue": "name 'Tuple1' is not defined",
     "output_type": "error",
     "traceback": [
      "\u001b[1;31m---------------------------------------------------------------------------\u001b[0m",
      "\u001b[1;31mNameError\u001b[0m                                 Traceback (most recent call last)",
      "\u001b[1;32m<ipython-input-11-11d1db81c022>\u001b[0m in \u001b[0;36m<module>\u001b[1;34m\u001b[0m\n\u001b[0;32m      2\u001b[0m \u001b[1;32mdel\u001b[0m \u001b[0mTuple1\u001b[0m\u001b[1;33m\u001b[0m\u001b[1;33m\u001b[0m\u001b[0m\n\u001b[0;32m      3\u001b[0m \u001b[1;33m\u001b[0m\u001b[0m\n\u001b[1;32m----> 4\u001b[1;33m \u001b[0mprint\u001b[0m\u001b[1;33m(\u001b[0m\u001b[0mTuple1\u001b[0m\u001b[1;33m)\u001b[0m\u001b[1;33m\u001b[0m\u001b[1;33m\u001b[0m\u001b[0m\n\u001b[0m",
      "\u001b[1;31mNameError\u001b[0m: name 'Tuple1' is not defined"
     ]
    }
   ],
   "source": [
    "Tuple1 = (0, 1, 2, 3, 4) \n",
    "del Tuple1 \n",
    "  \n",
    "print(Tuple1) "
   ]
  },
  {
   "cell_type": "code",
   "execution_count": 12,
   "metadata": {},
   "outputs": [],
   "source": [
    "#all()\tReturns true if all element are true or if tuple is empty\n",
    "#any()\treturn true if any element of the tuple is true. if tuple is empty, return false\n",
    "#len()\tReturns length of the tuple or size of the tuple\n",
    "#enumerate()\tReturns enumerate object of tuple\n",
    "#max()\treturn maximum element of given tuple\n",
    "#min()\treturn minimum element of given tuple\n",
    "#sum()\tSums up the numbers in the tuple\n",
    "#sorted()\tinput elements in the tuple and return a new sorted list\n",
    "#tuple()\tConvert an iterable to a tuple."
   ]
  },
  {
   "cell_type": "code",
   "execution_count": null,
   "metadata": {},
   "outputs": [],
   "source": []
  }
 ],
 "metadata": {
  "kernelspec": {
   "display_name": "Python 3",
   "language": "python",
   "name": "python3"
  },
  "language_info": {
   "codemirror_mode": {
    "name": "ipython",
    "version": 3
   },
   "file_extension": ".py",
   "mimetype": "text/x-python",
   "name": "python",
   "nbconvert_exporter": "python",
   "pygments_lexer": "ipython3",
   "version": "3.8.3"
  }
 },
 "nbformat": 4,
 "nbformat_minor": 4
}
