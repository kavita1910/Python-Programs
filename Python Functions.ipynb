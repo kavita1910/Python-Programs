{
 "cells": [
  {
   "cell_type": "code",
   "execution_count": 1,
   "metadata": {},
   "outputs": [
    {
     "name": "stdout",
     "output_type": "stream",
     "text": [
      "even\n",
      "odd\n"
     ]
    }
   ],
   "source": [
    "def evenodd(x):\n",
    "    if(x%2 ==0):\n",
    "        print(\"even\")\n",
    "    else:\n",
    "        print(\"odd\")\n",
    "evenodd(4)\n",
    "evenodd(21)"
   ]
  },
  {
   "cell_type": "code",
   "execution_count": 3,
   "metadata": {},
   "outputs": [
    {
     "name": "stdout",
     "output_type": "stream",
     "text": [
      "[20, 11, 12, 13, 14, 15]\n"
     ]
    }
   ],
   "source": [
    "def myfun(x):\n",
    "    x[0]=20\n",
    "lst=[10,11,12,13,14,15]\n",
    "myfun(lst);\n",
    "print(lst)"
   ]
  },
  {
   "cell_type": "code",
   "execution_count": 7,
   "metadata": {},
   "outputs": [
    {
     "name": "stdout",
     "output_type": "stream",
     "text": [
      "[10, 11, 12, 13, 14, 15]\n"
     ]
    }
   ],
   "source": [
    "def myfun(x):\n",
    "    x=[20,30,40]\n",
    "lst=[10,11,12,13,14,15]\n",
    "myfun(lst);\n",
    "print(lst)"
   ]
  },
  {
   "cell_type": "code",
   "execution_count": 8,
   "metadata": {},
   "outputs": [
    {
     "name": "stdout",
     "output_type": "stream",
     "text": [
      "10\n"
     ]
    }
   ],
   "source": [
    "def myfun(x):\n",
    "    x=20\n",
    "x=10\n",
    "myfun(x);\n",
    "print(x)"
   ]
  },
  {
   "cell_type": "code",
   "execution_count": 10,
   "metadata": {},
   "outputs": [
    {
     "name": "stdout",
     "output_type": "stream",
     "text": [
      "2\n",
      "3\n"
     ]
    }
   ],
   "source": [
    "def swap(x,y):\n",
    "    c= x;\n",
    "    x=y;\n",
    "    y=c;\n",
    "x=2\n",
    "y=3\n",
    "swap(x,y)\n",
    "print(x)\n",
    "print(y)"
   ]
  },
  {
   "cell_type": "code",
   "execution_count": 11,
   "metadata": {},
   "outputs": [
    {
     "name": "stdout",
     "output_type": "stream",
     "text": [
      "x:  10\n",
      "y:  50\n"
     ]
    }
   ],
   "source": [
    "#Default arguments:\n",
    "#A default argument is a parameter that assumes a default value if a value is not provided in the function \n",
    "#call for that argument.The following example illustrates Default arguments.\n",
    "def myfun(x,y=50):\n",
    "    print(\"x: \",x)\n",
    "    print(\"y: \",y)\n",
    "myfun(10)"
   ]
  },
  {
   "cell_type": "markdown",
   "metadata": {},
   "source": [
    "#### Calling functions without keyword arguments"
   ]
  },
  {
   "cell_type": "code",
   "execution_count": 14,
   "metadata": {},
   "outputs": [
    {
     "name": "stdout",
     "output_type": "stream",
     "text": [
      "John Mark studies in Fifth Standard\n",
      "John Will studies in Seventh Standard\n",
      "John Will studies in Fifth Standard\n",
      "John Seventh studies in Fifth Standard\n"
     ]
    }
   ],
   "source": [
    "def student(firstname, lastname ='Mark', standard ='Fifth'):\n",
    "\n",
    "    print(firstname, lastname, 'studies in', standard, 'Standard')\n",
    "student('John')\n",
    "student('John','Will','Seventh')\n",
    "student('John','Will')\n",
    "student('John','Seventh')"
   ]
  },
  {
   "cell_type": "markdown",
   "metadata": {},
   "source": [
    "#### Calling functions with keyword arguments"
   ]
  },
  {
   "cell_type": "code",
   "execution_count": 15,
   "metadata": {},
   "outputs": [
    {
     "name": "stdout",
     "output_type": "stream",
     "text": [
      "John Mark studies in Fifth Standard\n",
      "John Mark studies in Seventh Standard\n",
      "John Will studies in Fifth Standard\n"
     ]
    }
   ],
   "source": [
    "def student(firstname, lastname ='Mark', standard ='Fifth'):\n",
    "     print(firstname, lastname, 'studies in', standard, 'Standard')\n",
    "student(firstname='John')\n",
    "student(firstname='John', standard='Seventh')\n",
    "student(lastname='Will',firstname='John')"
   ]
  },
  {
   "cell_type": "markdown",
   "metadata": {},
   "source": [
    "#### Using mutable objects as default argument values in python"
   ]
  },
  {
   "cell_type": "code",
   "execution_count": 19,
   "metadata": {},
   "outputs": [
    {
     "name": "stdout",
     "output_type": "stream",
     "text": [
      "['Notebook']\n",
      "['Notebook', 'Pencil']\n",
      "['Notebook', 'Pencil', 'Eraser']\n"
     ]
    }
   ],
   "source": [
    "def appenditems(itemname, itemList = []):\n",
    "    itemList.append(itemname)\n",
    "    return itemList\n",
    "print(appenditems('Notebook'))\n",
    "print(appenditems('Pencil'))\n",
    "print(appenditems('Eraser'))"
   ]
  },
  {
   "cell_type": "code",
   "execution_count": 21,
   "metadata": {},
   "outputs": [
    {
     "name": "stdout",
     "output_type": "stream",
     "text": [
      "{'notebook': 4}\n",
      "{'notebook': 4, 'pencil': 10}\n",
      "{'notebook': 4, 'pencil': 10, 'eraser': 4}\n"
     ]
    }
   ],
   "source": [
    "def additemtoDict(itemname, quantity, itemDict={}):\n",
    "    itemDict[itemname] = quantity\n",
    "    return itemDict\n",
    "print(additemtoDict('notebook', 4))\n",
    "print(additemtoDict('pencil', 10))\n",
    "print(additemtoDict('eraser', 4))"
   ]
  },
  {
   "cell_type": "code",
   "execution_count": 26,
   "metadata": {},
   "outputs": [
    {
     "name": "stdout",
     "output_type": "stream",
     "text": [
      "List\n",
      "['Notebook']\n",
      "['Pencil']\n",
      "['Eraser']\n",
      "\n",
      "\n",
      "Dictionary\n",
      "{'notebook': 4}\n",
      "{'pencil': 10}\n",
      "{'eraser': 4}\n"
     ]
    }
   ],
   "source": [
    "print(\"List\")\n",
    "def appenditems(itemname, itemList = None):\n",
    "    if itemList==None:\n",
    "        itemList = []\n",
    "    itemList.append(itemname)\n",
    "    return itemList\n",
    "print(appenditems('Notebook'))\n",
    "print(appenditems('Pencil'))\n",
    "print(appenditems('Eraser'))\n",
    "print(\"\\n\\nDictionary\")\n",
    "def additemtoDict(itemname, quantity, itemDict = None):\n",
    "    if itemDict==None:\n",
    "        itemDict = {}\n",
    "    itemDict[itemname] = quantity\n",
    "    return itemDict\n",
    "print(additemtoDict('notebook', 4))\n",
    "print(additemtoDict('pencil', 10))\n",
    "print(additemtoDict('eraser', 4))"
   ]
  },
  {
   "cell_type": "markdown",
   "metadata": {},
   "source": [
    "### Keyword arguments:\n",
    "The idea is to allow caller to specify argument name with values so that caller does not need to remember order of parameters."
   ]
  },
  {
   "cell_type": "code",
   "execution_count": 12,
   "metadata": {},
   "outputs": [
    {
     "name": "stdout",
     "output_type": "stream",
     "text": [
      "Joy Roy\n",
      "Jay Ray\n"
     ]
    }
   ],
   "source": [
    "def student(firstname, lastname):\n",
    "    print(firstname, lastname)\n",
    "student(firstname = 'Joy' , lastname = 'Roy')\n",
    "student(lastname = 'Ray' , firstname = 'Jay')"
   ]
  },
  {
   "cell_type": "markdown",
   "metadata": {},
   "source": [
    "### Variable length Arguments"
   ]
  },
  {
   "cell_type": "code",
   "execution_count": 27,
   "metadata": {},
   "outputs": [
    {
     "name": "stdout",
     "output_type": "stream",
     "text": [
      "Hello\n",
      "Welcome\n",
      "to\n",
      "World\n"
     ]
    }
   ],
   "source": [
    "def myfunc(*argv):\n",
    "    for arg in argv:\n",
    "        print(arg)\n",
    "myfunc('Hello','Welcome','to','World')"
   ]
  },
  {
   "cell_type": "code",
   "execution_count": 29,
   "metadata": {},
   "outputs": [
    {
     "name": "stdout",
     "output_type": "stream",
     "text": [
      "first == Hello\n",
      "mid == from\n",
      "last == me\n"
     ]
    }
   ],
   "source": [
    "def myfunc(**kwargs):\n",
    "    for key, value in kwargs.items():\n",
    "        print(\"%s == %s\" %(key,value))\n",
    "myfunc(first='Hello', mid='from', last='me')"
   ]
  },
  {
   "cell_type": "markdown",
   "metadata": {},
   "source": [
    "### Anonymous funstions\n",
    "anonymous function means that a function is without a name. As we already know that def keyword is used to define the normal functions and the lambda keyword is used to create anonymous functions."
   ]
  },
  {
   "cell_type": "code",
   "execution_count": 30,
   "metadata": {},
   "outputs": [
    {
     "name": "stdout",
     "output_type": "stream",
     "text": [
      "343\n"
     ]
    }
   ],
   "source": [
    "cube = lambda x: x*x*x  \n",
    "print(cube(7)) "
   ]
  },
  {
   "cell_type": "code",
   "execution_count": null,
   "metadata": {},
   "outputs": [],
   "source": []
  }
 ],
 "metadata": {
  "kernelspec": {
   "display_name": "Python 3",
   "language": "python",
   "name": "python3"
  },
  "language_info": {
   "codemirror_mode": {
    "name": "ipython",
    "version": 3
   },
   "file_extension": ".py",
   "mimetype": "text/x-python",
   "name": "python",
   "nbconvert_exporter": "python",
   "pygments_lexer": "ipython3",
   "version": "3.8.3"
  }
 },
 "nbformat": 4,
 "nbformat_minor": 4
}
