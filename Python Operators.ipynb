{
 "cells": [
  {
   "cell_type": "markdown",
   "metadata": {},
   "source": [
    "### Arithmetic operators"
   ]
  },
  {
   "cell_type": "code",
   "execution_count": 2,
   "metadata": {},
   "outputs": [
    {
     "name": "stdout",
     "output_type": "stream",
     "text": [
      "12\n",
      "4\n",
      "32\n",
      "2.0\n",
      "0\n",
      "4096\n"
     ]
    }
   ],
   "source": [
    "a = 8\n",
    "b = 4\n",
    "add = a+b\n",
    "sub = a-b\n",
    "mul = a*b\n",
    "div = a/b\n",
    "mod = a%b\n",
    "powr = a**b\n",
    "print(add)\n",
    "print(sub)\n",
    "print(mul)\n",
    "print(div)\n",
    "print(mod)\n",
    "print(powr)"
   ]
  },
  {
   "cell_type": "markdown",
   "metadata": {},
   "source": [
    "### Relational Operators"
   ]
  },
  {
   "cell_type": "code",
   "execution_count": 4,
   "metadata": {},
   "outputs": [
    {
     "name": "stdout",
     "output_type": "stream",
     "text": [
      "True\n",
      "False\n",
      "False\n",
      "True\n",
      "True\n",
      "False\n"
     ]
    }
   ],
   "source": [
    "a = 8\n",
    "b = 4\n",
    "print(a>b)\n",
    "print(a<b)\n",
    "print(a==b)\n",
    "print(a != b)\n",
    "print(a>=b)\n",
    "print(a<=b)"
   ]
  },
  {
   "cell_type": "markdown",
   "metadata": {},
   "source": [
    "### Logical operators"
   ]
  },
  {
   "cell_type": "code",
   "execution_count": 5,
   "metadata": {},
   "outputs": [
    {
     "name": "stdout",
     "output_type": "stream",
     "text": [
      "False\n",
      "True\n",
      "False\n"
     ]
    }
   ],
   "source": [
    "a = True\n",
    "b = False\n",
    "print(a and b) #Logical AND: True if both the operands are true\n",
    "print(a or b) #Logical OR: True if either of the operands is true\n",
    "print(not a) #Logical NOT: True if operand is false"
   ]
  },
  {
   "cell_type": "markdown",
   "metadata": {},
   "source": [
    "### Bitwise operators"
   ]
  },
  {
   "cell_type": "code",
   "execution_count": 1,
   "metadata": {},
   "outputs": [
    {
     "name": "stdout",
     "output_type": "stream",
     "text": [
      "14\n",
      "0\n",
      "-11\n",
      "14\n",
      "2\n",
      "40\n"
     ]
    }
   ],
   "source": [
    "#Bitwise operators acts on bits and performs bit by bit operation.\n",
    "a=10\n",
    "b=4\n",
    "print(a|b)# Print bitwise OR operation \n",
    "print(a&b)# Print bitwise AND operation\n",
    "print(~a)# Print bitwise NOT operation \n",
    "print(a ^ b)# Print bitwise XOR operation \n",
    "print(a>>2) # print bitwise right shift operation\n",
    "print(a<<2)# print bitwise left shift operation"
   ]
  },
  {
   "cell_type": "markdown",
   "metadata": {},
   "source": [
    "### Special operators\n",
    "##### Identity Operator"
   ]
  },
  {
   "cell_type": "code",
   "execution_count": 4,
   "metadata": {},
   "outputs": [
    {
     "name": "stdout",
     "output_type": "stream",
     "text": [
      "False\n",
      "False\n",
      "False\n"
     ]
    }
   ],
   "source": [
    "#is and is not are the identity operators both are used to check if two values are located on the same part of the memory\n",
    "#Two variables that are equal does not imply that they are identical.\n",
    "a1 = 33\n",
    "a2 = 33\n",
    "b1 = 'hellowolrd'\n",
    "b2 = 'helloworld'\n",
    "c1 = [1,2,3]\n",
    "c2 = [1,2,3]\n",
    "print(a1 is not a2)\n",
    "print(b1 is b2)\n",
    "# Output will be False, since lists are mutable.\n",
    "print(c1 is c2)"
   ]
  },
  {
   "cell_type": "markdown",
   "metadata": {},
   "source": [
    "##### Membership Operators"
   ]
  },
  {
   "cell_type": "code",
   "execution_count": 1,
   "metadata": {},
   "outputs": [
    {
     "name": "stdout",
     "output_type": "stream",
     "text": [
      "True\n",
      "True\n",
      "True\n",
      "True\n",
      "False\n"
     ]
    }
   ],
   "source": [
    "#in = True if value is found in the sequence\n",
    "#not in = True if value is not found in the sequence\n",
    "x = 'Tom & Jerry'\n",
    "y = {3:'a', 4:'b'}\n",
    "print('T' in x)\n",
    "print('tom' not in x)\n",
    "print('Tom' in x)\n",
    "print(3 in y)\n",
    "print(4 not in y)"
   ]
  },
  {
   "cell_type": "code",
   "execution_count": 2,
   "metadata": {},
   "outputs": [
    {
     "name": "stdout",
     "output_type": "stream",
     "text": [
      "100.0\n",
      "6\n",
      "0\n",
      "512\n"
     ]
    }
   ],
   "source": [
    "#Operator Associativity: If an expression contains two or more operators with the same precedence \n",
    "#then Operator Associativity is used to determine. It can either be Left to Right or from Right to Left.\n",
    "# Left-right associativity  \n",
    "# 100 / 10 * 10 is calculated as   \n",
    "# (100 / 10) * 10 and not   \n",
    "# as 100 / (10 * 10)  \n",
    "print(100 / 10 * 10)  \n",
    "    \n",
    "# Left-right associativity  \n",
    "# 5 - 2 + 3 is calculated as   \n",
    "# (5 - 2) + 3 and not   \n",
    "# as 5 - (2 + 3)  \n",
    "print(5 - 2 + 3)  \n",
    "    \n",
    "# left-right associativity  \n",
    "print(5 - (2 + 3))  \n",
    "    \n",
    "# right-left associativity  \n",
    "# 2 ** 3 ** 2 is calculated as   \n",
    "# 2 ** (3 ** 2) and not   \n",
    "# as (2 ** 3) ** 2  \n",
    "print(2 ** 3 ** 2) "
   ]
  },
  {
   "cell_type": "code",
   "execution_count": 3,
   "metadata": {},
   "outputs": [],
   "source": [
    "#( ) = left to right presedence\n",
    "#** = R to L\n",
    "#*/ % = L to R\n",
    "# + - =L to R\n",
    "# == != L to R"
   ]
  },
  {
   "cell_type": "markdown",
   "metadata": {},
   "source": [
    "### Ternary Operator \n",
    "Ternary operators also known as conditional expressions are operators that evaluate something based on a condition being true or false.  Syntax : [on_true] if [expression] else [on_false] \n"
   ]
  },
  {
   "cell_type": "code",
   "execution_count": 6,
   "metadata": {},
   "outputs": [
    {
     "name": "stdout",
     "output_type": "stream",
     "text": [
      "10\n"
     ]
    }
   ],
   "source": [
    "a , b = 10,20\n",
    "min = a if a<b else b\n",
    "print(min)"
   ]
  },
  {
   "cell_type": "code",
   "execution_count": 7,
   "metadata": {},
   "outputs": [
    {
     "name": "stdout",
     "output_type": "stream",
     "text": [
      "10\n",
      "10\n"
     ]
    }
   ],
   "source": [
    "#using tuples, Dictionary \n",
    "a,b = 10, 20\n",
    "# Use tuple for selecting an item \n",
    "# (if_test_false,if_test_true)[test] \n",
    "print( (b, a) [a < b] ) \n",
    "  \n",
    "# Use Dictionary for selecting an item \n",
    "print({True: a, False: b} [a < b]) "
   ]
  },
  {
   "cell_type": "code",
   "execution_count": 7,
   "metadata": {},
   "outputs": [
    {
     "name": "stdout",
     "output_type": "stream",
     "text": [
      "b is greater than a\n"
     ]
    }
   ],
   "source": [
    "a,b= 10,20\n",
    "print(\"Both a and b are equal\" if a==b else \"a is greater than b\"\n",
    "                                                 if a>b else \"b is greater than a\")"
   ]
  },
  {
   "cell_type": "markdown",
   "metadata": {},
   "source": [
    "### Operator Overloading\n",
    "Operator Overloading means giving extended meaning beyond their predefined operational meaning. For example operator + is used to add two integers as well as join two strings and merge two lists."
   ]
  },
  {
   "cell_type": "code",
   "execution_count": 9,
   "metadata": {},
   "outputs": [
    {
     "name": "stdout",
     "output_type": "stream",
     "text": [
      "15\n",
      "misunderstand\n",
      "24\n",
      "ByeByeBye\n"
     ]
    }
   ],
   "source": [
    "print(5+10)\n",
    "print('mis'+'understand')\n",
    "print(6*4)\n",
    "print('Bye'*3)"
   ]
  },
  {
   "cell_type": "markdown",
   "metadata": {},
   "source": [
    "### Operator Function"
   ]
  },
  {
   "cell_type": "code",
   "execution_count": 10,
   "metadata": {},
   "outputs": [
    {
     "name": "stdout",
     "output_type": "stream",
     "text": [
      "The addition of numbers is :17\n",
      "The substraction of numbers is :5\n",
      "The multipication of numbers is :66\n"
     ]
    }
   ],
   "source": [
    "# Python code to demonstrate working of add(), sub(), mul()\n",
    "import operator\n",
    "a=11\n",
    "b=6\n",
    "print(\"The addition of numbers is :\",end='');\n",
    "print(operator.add(a,b))\n",
    "print(\"The substraction of numbers is :\",end='');\n",
    "print(operator.sub(a,b))\n",
    "print(\"The multipication of numbers is :\",end='');\n",
    "print(operator.mul(a,b))"
   ]
  },
  {
   "cell_type": "code",
   "execution_count": 11,
   "metadata": {},
   "outputs": [
    {
     "name": "stdout",
     "output_type": "stream",
     "text": [
      "The true division of numbers is :1.8333333333333333\n",
      "The floor division of numbers is :1\n",
      "The exponential of numbers is :1771561\n",
      "The modulus of the numbers is :5\n"
     ]
    }
   ],
   "source": [
    "a=11\n",
    "b=6\n",
    "print(\"The true division of numbers is :\",end=''); #This functions returns division of the given arguments.\n",
    "print(operator.truediv(a,b))\n",
    "print(\"The floor division of numbers is :\",end=''); #This functions also returns division of the given arguments.\n",
    "#But the value is floored value i.e. returns greatest small integer.\n",
    "print(operator.floordiv(a,b))\n",
    "print(\"The exponential of numbers is :\",end=''); # This functions returns exponentiation of the given arguments.\n",
    "print(operator.pow(a,b))\n",
    "print(\"The modulus of the numbers is :\",end=''); \n",
    "print(operator.mod(a,b))"
   ]
  },
  {
   "cell_type": "code",
   "execution_count": 12,
   "metadata": {},
   "outputs": [
    {
     "name": "stdout",
     "output_type": "stream",
     "text": [
      "3 is not less than 3\n",
      "3 is less than or equal to 3\n",
      "3 is equal to 3\n"
     ]
    }
   ],
   "source": [
    "# Python code to demonstrate working of  \n",
    "# lt(), le() and eq()\n",
    "a=3\n",
    "b=3\n",
    "# using lt() to check if a is less than b\n",
    "if (operator.lt(a,b)):\n",
    "    print(\"3 is less than 3\")\n",
    "else :\n",
    "    print(\"3 is not less than 3\")\n",
    "# using le() to check if a is less than or equal to b\n",
    "if(operator.le(a,b)):\n",
    "    print(\"3 is less than or equal to 3\")\n",
    "else :\n",
    "    print(\"3 is not less than or equal to 3\")\n",
    "# using eq() to check if a is equal to b\n",
    "if(operator.eq(a,b)):\n",
    "    print(\"3 is equal to 3\")\n",
    "else:\n",
    "    print(\"3 is not equal to 3\")"
   ]
  },
  {
   "cell_type": "code",
   "execution_count": 13,
   "metadata": {},
   "outputs": [
    {
     "name": "stdout",
     "output_type": "stream",
     "text": [
      "4 is greater\n",
      "4 is greater than or equal to 3\n",
      "4 is not equal to 3\n"
     ]
    }
   ],
   "source": [
    "# Python code to demonstrate working of  \n",
    "# gt(), ge() and ne()\n",
    "a=4\n",
    "b=3\n",
    "# using gt() to check if a is greater than b. returns boolean values\n",
    "if(operator.gt(a,b)):\n",
    "    print(\"4 is greater\")\n",
    "else : print (\"4 is not greater than 3\") \n",
    "  \n",
    "# using ge() to check if a is greater than or equal to b \n",
    "if (operator.ge(a,b)): \n",
    "       print (\"4 is greater than or equal to 3\") \n",
    "else : print (\"4 is not greater than or equal to 3\") \n",
    "  \n",
    "# using ne() to check if a is not equal to b \n",
    "if (operator.ne(a,b)): \n",
    "       print (\"4 is not equal to 3\") \n",
    "else : print (\"4 is equal to 3\")"
   ]
  },
  {
   "cell_type": "code",
   "execution_count": 19,
   "metadata": {},
   "outputs": [
    {
     "name": "stdout",
     "output_type": "stream",
     "text": [
      "The original list is : 1 5 6 7 8 \r\n",
      "The modified list after setitem() is : 1 5 6 3 8 \r\n",
      "The modified list after delitem() is : 1 6 3 8 \r\n",
      "The 4th element of list is : 8\n"
     ]
    }
   ],
   "source": [
    "# Python code to demonstrate working of  \n",
    "# setitem(), delitem() and getitem()\n",
    "\n",
    "# Initializing list \n",
    "li = [1, 5, 6, 7, 8] \n",
    "  \n",
    "# printing original list  \n",
    "print (\"The original list is : \",end=\"\") \n",
    "for i in range(0,len(li)): \n",
    "    print (li[i],end=\" \") \n",
    "  \n",
    "print (\"\\r\") \n",
    "  \n",
    "# using setitem() to assign 3 at 4th position. Syntax = setitem(ob, pos, val)\n",
    "operator.setitem(li,3,3) \n",
    "  \n",
    "# printing modified list after setitem() \n",
    "print (\"The modified list after setitem() is : \",end=\"\") \n",
    "for i in range(0,len(li)): \n",
    "    print (li[i],end=\" \") \n",
    "  \n",
    "print (\"\\r\") \n",
    "  \n",
    "# using delitem() to delete value at 2nd index. Syntax = delitem(ob, pos) \n",
    "operator.delitem(li,1) \n",
    "  \n",
    "# printing modified list after delitem() \n",
    "print (\"The modified list after delitem() is : \",end=\"\") \n",
    "for i in range(0,len(li)): \n",
    "    print (li[i],end=\" \") \n",
    "  \n",
    "print (\"\\r\") \n",
    "  \n",
    "# using getitem() to access 4th element. Synatx = getitem(ob, pos)\n",
    "print (\"The 4th element of list is : \",end=\"\") \n",
    "print (operator.getitem(li,3))"
   ]
  },
  {
   "cell_type": "code",
   "execution_count": 3,
   "metadata": {},
   "outputs": [
    {
     "name": "stdout",
     "output_type": "stream",
     "text": [
      "The concatinated string is :Tom & Jerry is fun watching\n",
      "s1 does not contain s2\n"
     ]
    }
   ],
   "source": [
    "# Python code to demonstrate working of  \n",
    "# concat() and contains()\n",
    "import operator\n",
    "s1 = \"Tom & Jerry\"\n",
    "s2 = \" is fun watching\"\n",
    "print(\"The concatinated string is :\",end='')\n",
    "print(operator.concat(s1,s2))\n",
    "\n",
    "# using contains() to check if s1 contains s2\n",
    "if(operator.contains(s1,s2)):\n",
    "    print(\"s1 contains s2\")\n",
    "else:\n",
    "    print(\"s1 does not contain s2\")"
   ]
  },
  {
   "cell_type": "code",
   "execution_count": 5,
   "metadata": {},
   "outputs": [
    {
     "name": "stdout",
     "output_type": "stream",
     "text": [
      "The bitwise and of a and b is : 0\n",
      "The bitwise or of a and b is : 1\n",
      "The bitwise xor of a and b is : 1\n",
      "The inverted value of a is : 1\n"
     ]
    }
   ],
   "source": [
    "# Python code to demonstrate working of  \n",
    "# and_(), or_(), xor(), invert() \n",
    "a = 1\n",
    "b = 0\n",
    "# using and_() to display bitwise and operation \n",
    "print (\"The bitwise and of a and b is : \",end=\"\")\n",
    "print (operator.and_(a,b))\n",
    "# using or_() to display bitwise or operation \n",
    "print (\"The bitwise or of a and b is : \",end=\"\") \n",
    "print (operator.or_(a,b)) \n",
    "  \n",
    "# using xor() to display bitwise exclusive or operation \n",
    "print (\"The bitwise xor of a and b is : \",end=\"\") \n",
    "print (operator.xor(a,b)) \n",
    "  \n",
    "# using invert() to invert value of a \n",
    "operator.invert(a) \n",
    "  \n",
    "# printing modified value \n",
    "print (\"The inverted value of a is : \",end=\"\") \n",
    "print (a) "
   ]
  },
  {
   "cell_type": "markdown",
   "metadata": {},
   "source": [
    "### Difference between == and is operator in Python\n",
    "The == operator compares the values of both the operands and checks for value equality. Whereas is operator checks whether both the operands refer to the same object or not."
   ]
  },
  {
   "cell_type": "code",
   "execution_count": 6,
   "metadata": {},
   "outputs": [
    {
     "name": "stdout",
     "output_type": "stream",
     "text": [
      "True\n",
      "False\n",
      "True\n",
      "False\n"
     ]
    }
   ],
   "source": [
    "# [] is an empty list \n",
    "list1 = [] \n",
    "list2 = [] \n",
    "list3=list1 \n",
    "  \n",
    "if (list1 == list2): \n",
    "    print(\"True\") \n",
    "else: \n",
    "    print(\"False\") \n",
    "  \n",
    "if (list1 is list2): \n",
    "    print(\"True\") \n",
    "else: \n",
    "    print(\"False\") \n",
    "  \n",
    "if (list1 is list3): \n",
    "    print(\"True\") \n",
    "else:     \n",
    "    print(\"False\") \n",
    "  \n",
    "list3 = list3 + list2 \n",
    "  \n",
    "if (list1 is list3): \n",
    "    print(\"True\") \n",
    "else:     \n",
    "    print(\"False\")"
   ]
  },
  {
   "cell_type": "code",
   "execution_count": null,
   "metadata": {},
   "outputs": [],
   "source": [
    "#Output of the first if condition is “True” as both list1 and list2 are empty lists.\n",
    "#Second if condition shows “False” because two empty lists are at different memory locations.\n",
    "#Hence list1 and list2 refer to different objects.\n",
    "#"
   ]
  }
 ],
 "metadata": {
  "kernelspec": {
   "display_name": "Python 3",
   "language": "python",
   "name": "python3"
  },
  "language_info": {
   "codemirror_mode": {
    "name": "ipython",
    "version": 3
   },
   "file_extension": ".py",
   "mimetype": "text/x-python",
   "name": "python",
   "nbconvert_exporter": "python",
   "pygments_lexer": "ipython3",
   "version": "3.8.3"
  }
 },
 "nbformat": 4,
 "nbformat_minor": 4
}
