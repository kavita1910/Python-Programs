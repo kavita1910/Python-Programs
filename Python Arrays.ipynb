{
 "cells": [
  {
   "cell_type": "markdown",
   "metadata": {},
   "source": [
    "# Python Arrays\n",
    "An array is a collection of items stored at contiguous memory locations. The idea is to store multiple items of the same type together. This makes it easier to calculate the position of each element by simply adding an offset to a base value, i.e., the memory location of the first element of the array\n",
    "\n",
    "Array can be handled in Python by a module named array. They can be useful when we have to manipulate only a specific data type values. A user can treat lists as arrays. However, user cannot constraint the type of elements stored in a list. If you create arrays using the array module, all elements of the array must be of the same type."
   ]
  },
  {
   "cell_type": "code",
   "execution_count": 1,
   "metadata": {},
   "outputs": [
    {
     "name": "stdout",
     "output_type": "stream",
     "text": [
      "Original Array :  1 2 3 4 \n"
     ]
    }
   ],
   "source": [
    "import array as arr\n",
    "a=arr.array('i',[1,2,3,4])\n",
    "\n",
    "print(\"Original Array : \",end=\" \")\n",
    "for i in range(0,4):\n",
    "    print(a[i], end=\" \")\n",
    "print()"
   ]
  },
  {
   "cell_type": "code",
   "execution_count": 3,
   "metadata": {},
   "outputs": [
    {
     "name": "stdout",
     "output_type": "stream",
     "text": [
      "Original Array :  1.1 2.2 3.3 4.4 "
     ]
    }
   ],
   "source": [
    "b=arr.array('d',[1.1,2.2,3.3,4.4])\n",
    "print(\"Original Array : \",end=\" \")\n",
    "for i in range(0,4):\n",
    "    print(b[i], end=\" \")"
   ]
  },
  {
   "cell_type": "markdown",
   "metadata": {},
   "source": [
    "### Adding elements to array\n",
    "Elements can be added to the Array by using built-in insert() function. Insert is used to insert one or more data elements into an array. Based on the requirement, a new element can be added at the beginning, end, or any given index of array. append() is also used to add the value mentioned in its arguments at the end of the array."
   ]
  },
  {
   "cell_type": "code",
   "execution_count": 5,
   "metadata": {},
   "outputs": [
    {
     "name": "stdout",
     "output_type": "stream",
     "text": [
      "Original Array :  1 2 3 4 \n",
      "Array after insertion :  1 6 2 3 4 \n",
      "Original Array :  1.1 2.2 3.3 4.4 \n",
      "Array after insertion :  1.1 2.2 3.3 4.4 5.5 \n"
     ]
    }
   ],
   "source": [
    "a=arr.array('i',[1,2,3,4])\n",
    "\n",
    "print(\"Original Array : \",end=\" \")\n",
    "for i in range(0,4):\n",
    "    print(a[i], end=\" \")\n",
    "print()\n",
    "a.insert(1,6)\n",
    "print(\"Array after insertion : \",end=\" \")\n",
    "for i in (a):\n",
    "    print(i, end=\" \")\n",
    "print()\n",
    "b=arr.array('d',[1.1,2.2,3.3,4.4])\n",
    "print(\"Original Array : \",end=\" \")\n",
    "for i in range(0,4):\n",
    "    print(b[i], end=\" \")\n",
    "print()\n",
    "b.append(5.5)\n",
    "print(\"Array after insertion : \",end=\" \")\n",
    "for i in (b):\n",
    "    print(i, end=\" \")\n",
    "print()"
   ]
  },
  {
   "cell_type": "markdown",
   "metadata": {},
   "source": [
    "### Accessing elements from the Array\n",
    "In order to access the array items refer to the index number. Use the index operator [ ] to access an item in a array. The index must be an integer."
   ]
  },
  {
   "cell_type": "code",
   "execution_count": 6,
   "metadata": {},
   "outputs": [
    {
     "name": "stdout",
     "output_type": "stream",
     "text": [
      "Access element is:  1\n",
      "Access element is :  5\n",
      "Access element is:  2.2\n",
      "Access element is:  3.3\n"
     ]
    }
   ],
   "source": [
    "a = arr.array('i', [1, 2, 3, 4, 5, 6]) \n",
    "  \n",
    "# accessing element of array \n",
    "print(\"Access element is: \", a[0])\n",
    "print(\"Access element is : \",a[4])\n",
    "\n",
    "b = arr.array('d', [1.1,2.2,3.3,4.4,5.5])\n",
    "print(\"Access element is: \", b[1]) \n",
    "  \n",
    "# accessing element of array \n",
    "print(\"Access element is: \", b[2]) "
   ]
  },
  {
   "cell_type": "markdown",
   "metadata": {},
   "source": [
    "### Removing Elements from the Array"
   ]
  },
  {
   "cell_type": "code",
   "execution_count": 11,
   "metadata": {},
   "outputs": [
    {
     "name": "stdout",
     "output_type": "stream",
     "text": [
      "The new created array is : 1 2 3 1 5 \n",
      "The popped element is : 3\n",
      "Array after popping :  1 2 1 5 \n",
      "None\n",
      "The array after removing is : 2 1 5 "
     ]
    }
   ],
   "source": [
    "a = arr.array('i',[1,2,3,1,5])\n",
    "print (\"The new created array is : \", end =\"\") \n",
    "for i in range (0, 5): \n",
    "    print (a[i], end =\" \")\n",
    "print()\n",
    "print (\"The popped element is : \", end =\"\") \n",
    "print (a.pop(2))\n",
    "print(\"Array after popping : \",end =\" \")\n",
    "for i in range(0,4):\n",
    "    print(a[i], end=\" \")\n",
    "print()\n",
    "print(a.remove(1))\n",
    "print (\"The array after removing is : \", end =\"\") \n",
    "for i in range (0, 3): \n",
    "    print (a[i], end =\" \")"
   ]
  },
  {
   "cell_type": "markdown",
   "metadata": {},
   "source": [
    "### Slicing of a Array"
   ]
  },
  {
   "cell_type": "code",
   "execution_count": null,
   "metadata": {},
   "outputs": [],
   "source": [
    "l = [1, 2, 3, 4, 5, 6, 7, 8, 9, 10] \n",
    "  \n",
    "a = arr.array('i', l) \n",
    "print(\"Intial Array: \") \n",
    "for i in (a): \n",
    "    print(i, end =\" \") \n",
    "  \n",
    "#Print elements of a range \n",
    "# using Slice operation \n",
    "Sliced_array = a[3:8] \n",
    "print(\"\\nSlicing elements in a range 3-8: \") \n",
    "print(Sliced_array) \n",
    "  \n",
    "# Print elements from a  \n",
    "# pre-defined point to end \n",
    "Sliced_array = a[5:] \n",
    "print(\"\\nElements sliced from 5th \"\n",
    "      \"element till the end: \") \n",
    "print(Sliced_array) \n",
    "  \n",
    "# Printing elements from \n",
    "# beginning till end \n",
    "Sliced_array = a[:] \n",
    "print(\"\\nPrinting all elements using slice operation: \") \n",
    "print(Sliced_array) "
   ]
  },
  {
   "cell_type": "markdown",
   "metadata": {},
   "source": [
    "### Searching element in a Array\n",
    "In order to search an element in the array we use a python in-built index() method. This function returns the index of the first occurrence of value mentioned in arguments."
   ]
  },
  {
   "cell_type": "code",
   "execution_count": 15,
   "metadata": {},
   "outputs": [
    {
     "name": "stdout",
     "output_type": "stream",
     "text": [
      "The new created array is : 1 2 3 1 2 5 \r\n",
      "The index of 1st occurrence of 2 is : 1\n",
      "The index of 1st occurrence of 1 is : 0\n"
     ]
    }
   ],
   "source": [
    "import array \n",
    "   \n",
    "# initializing array with array values \n",
    "# initializes array with signed integers \n",
    "arr = array.array('i', [1, 2, 3, 1, 2, 5])  \n",
    "  \n",
    "# printing original array \n",
    "print (\"The new created array is : \", end =\"\") \n",
    "for i in range (0, 6): \n",
    "    print (arr[i], end =\" \") \n",
    "  \n",
    "print (\"\\r\") \n",
    "  \n",
    "# using index() to print index of 1st occurrenece of 2 \n",
    "print (\"The index of 1st occurrence of 2 is : \", end =\"\") \n",
    "print (arr.index(2)) \n",
    "  \n",
    "# using index() to print index of 1st occurrenece of 1 \n",
    "print (\"The index of 1st occurrence of 1 is : \", end =\"\") \n",
    "print (arr.index(1)) "
   ]
  },
  {
   "cell_type": "markdown",
   "metadata": {},
   "source": [
    "### Updating Elements in a Array\n",
    "In order to update an element in the array we simply reassign a new value to the desired index we want to update."
   ]
  },
  {
   "cell_type": "code",
   "execution_count": 16,
   "metadata": {},
   "outputs": [
    {
     "name": "stdout",
     "output_type": "stream",
     "text": [
      "Array before updation : 1 2 3 1 2 5 \r\n",
      "Array after updation : 1 2 6 1 2 5 \n",
      "Array after updation : 1 2 6 1 8 5 "
     ]
    }
   ],
   "source": [
    "arr = array.array('i', [1, 2, 3, 1, 2, 5])\n",
    "print (\"Array before updation : \", end =\"\") \n",
    "for i in range (0, 6): \n",
    "    print (arr[i], end =\" \") \n",
    "  \n",
    "print (\"\\r\") \n",
    "  \n",
    "# updating a element in a array \n",
    "arr[2] = 6\n",
    "print(\"Array after updation : \", end =\"\") \n",
    "for i in range (0, 6): \n",
    "    print (arr[i], end =\" \") \n",
    "print() \n",
    "  \n",
    "# updating a element in a array \n",
    "arr[4] = 8\n",
    "print(\"Array after updation : \", end =\"\") \n",
    "for i in range (0, 6): \n",
    "    print (arr[i], end =\" \") "
   ]
  },
  {
   "cell_type": "code",
   "execution_count": null,
   "metadata": {},
   "outputs": [],
   "source": []
  }
 ],
 "metadata": {
  "kernelspec": {
   "display_name": "Python 3",
   "language": "python",
   "name": "python3"
  },
  "language_info": {
   "codemirror_mode": {
    "name": "ipython",
    "version": 3
   },
   "file_extension": ".py",
   "mimetype": "text/x-python",
   "name": "python",
   "nbconvert_exporter": "python",
   "pygments_lexer": "ipython3",
   "version": "3.8.3"
  }
 },
 "nbformat": 4,
 "nbformat_minor": 4
}
