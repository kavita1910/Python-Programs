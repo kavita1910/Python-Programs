{
 "cells": [
  {
   "cell_type": "markdown",
   "metadata": {},
   "source": [
    "# Input/Output\n",
    "##### input () function"
   ]
  },
  {
   "cell_type": "code",
   "execution_count": 2,
   "metadata": {},
   "outputs": [
    {
     "name": "stdout",
     "output_type": "stream",
     "text": [
      "Enter your name : Jamie\n",
      "Jamie\n"
     ]
    }
   ],
   "source": [
    "#input ( ) : This function first takes the input from the user and then evaluates the expression\n",
    "x = input(\"Enter your name : \")\n",
    "print(x)"
   ]
  },
  {
   "cell_type": "code",
   "execution_count": 4,
   "metadata": {},
   "outputs": [
    {
     "name": "stdout",
     "output_type": "stream",
     "text": [
      "Enter your Id number : 12345\n",
      "12345\n",
      "Enter your location : California\n",
      "California\n",
      "Datatype is :  <class 'str'>\n",
      "Datatype is :  <class 'str'>\n"
     ]
    }
   ],
   "source": [
    "num = input(\"Enter your Id number : \")\n",
    "print(num)\n",
    "location = input(\"Enter your location : \")\n",
    "print(location)\n",
    "# Printing type of input value\n",
    "print(\"Datatype is : \",type(num))\n",
    "print(\"Datatype is : \",type(location))"
   ]
  },
  {
   "cell_type": "code",
   "execution_count": 5,
   "metadata": {},
   "outputs": [],
   "source": [
    "#Whatever you enter as input, input function convert it into a string. if you enter an integer value still input() \n",
    "#function convert it into a string. You need to explicitly convert it into an integer in your code using typecasting."
   ]
  },
  {
   "cell_type": "markdown",
   "metadata": {},
   "source": [
    "##### Typecasting the input to Integer"
   ]
  },
  {
   "cell_type": "code",
   "execution_count": 6,
   "metadata": {},
   "outputs": [
    {
     "name": "stdout",
     "output_type": "stream",
     "text": [
      "5\n",
      "4\n",
      "9\n"
     ]
    }
   ],
   "source": [
    "num1 = int(input()) \n",
    "num2 = int(input()) \n",
    "  \n",
    "# printing the sum in integer \n",
    "print(num1 + num2)"
   ]
  },
  {
   "cell_type": "markdown",
   "metadata": {},
   "source": [
    "##### Typecasting the input to Float"
   ]
  },
  {
   "cell_type": "code",
   "execution_count": 7,
   "metadata": {},
   "outputs": [
    {
     "name": "stdout",
     "output_type": "stream",
     "text": [
      "5.5\n",
      "5.5\n",
      "11.0\n"
     ]
    }
   ],
   "source": [
    "num1 = float(input()) \n",
    "num2 = float(input()) \n",
    "  \n",
    "# printing the sum in float \n",
    "print(num1 + num2)"
   ]
  },
  {
   "cell_type": "code",
   "execution_count": 8,
   "metadata": {},
   "outputs": [
    {
     "name": "stdout",
     "output_type": "stream",
     "text": [
      "abcd\n",
      "abcd\n"
     ]
    }
   ],
   "source": [
    "string = str(input()) \n",
    "  \n",
    "# printing the string \n",
    "print(string)"
   ]
  },
  {
   "cell_type": "markdown",
   "metadata": {},
   "source": [
    "### Taking multiple inputs from user in Python\n",
    "##### split() function"
   ]
  },
  {
   "cell_type": "code",
   "execution_count": 9,
   "metadata": {},
   "outputs": [
    {
     "name": "stdout",
     "output_type": "stream",
     "text": [
      "Enter two vaues : 2, 3\n",
      "First Value :  2,\n",
      "Second Value :  3\n"
     ]
    }
   ],
   "source": [
    "#input().split(separator, maxsplit)\n",
    "\n",
    "\n",
    "# taking two inputs at a time \n",
    "x, y = input(\"Enter two vaues : \").split()\n",
    "print(\"First Value : \",x)\n",
    "print(\"Second Value : \",y)"
   ]
  },
  {
   "cell_type": "code",
   "execution_count": 11,
   "metadata": {},
   "outputs": [
    {
     "name": "stdout",
     "output_type": "stream",
     "text": [
      "Enter three Values : 90 30 30\n",
      "Total number of students:  90\n",
      "Number of boys is :  30\n",
      "Number of girls is :  30\n"
     ]
    }
   ],
   "source": [
    "# taking three inputs at a time \n",
    "x, y, z = input(\"Enter three Values : \").split()\n",
    "print(\"Total number of students: \", x) \n",
    "print(\"Number of boys is : \", y) \n",
    "print(\"Number of girls is : \", z)"
   ]
  },
  {
   "cell_type": "code",
   "execution_count": 14,
   "metadata": {},
   "outputs": [
    {
     "name": "stdout",
     "output_type": "stream",
     "text": [
      "Enter two values : 60 60\n",
      "The first value is 60 and the second value is 60\n"
     ]
    }
   ],
   "source": [
    "# taking two inputs at a time\n",
    "a, b = input(\"Enter two values : \").split()\n",
    "print(\"The first value is {} and the second value is {}\".format(a, b))"
   ]
  },
  {
   "cell_type": "code",
   "execution_count": 17,
   "metadata": {},
   "outputs": [
    {
     "name": "stdout",
     "output_type": "stream",
     "text": [
      "Enter a list of values : 1 2 3 4 5 6 7 8 9\n",
      "List of values is :  [1, 2, 3, 4, 5, 6, 7, 8, 9]\n"
     ]
    }
   ],
   "source": [
    "# taking multiple inputs at a time  \n",
    "# and type casting using list() function\n",
    "x = list(map(int,input(\"Enter a list of values : \").split()))\n",
    "print(\"List of values is : \",x)"
   ]
  },
  {
   "cell_type": "markdown",
   "metadata": {},
   "source": [
    "### Using List comprehension :"
   ]
  },
  {
   "cell_type": "code",
   "execution_count": 18,
   "metadata": {},
   "outputs": [],
   "source": [
    "#List comprehension is an elegant way to define and create list in Python.\n",
    "#We can create lists just like mathematical statements in one line only. It is also used in getting multiple inputs from a user."
   ]
  },
  {
   "cell_type": "code",
   "execution_count": 19,
   "metadata": {},
   "outputs": [
    {
     "name": "stdout",
     "output_type": "stream",
     "text": [
      "Enter the value : 25 25\n",
      "The 1st value is 25 and the 2nd value is 25\n"
     ]
    }
   ],
   "source": [
    "#taking two input at a time \n",
    "x, y = [int(x) for x in input(\"Enter the value : \").split()]\n",
    "print(\"The 1st value is {} and the 2nd value is {}\".format(x,y))"
   ]
  },
  {
   "cell_type": "code",
   "execution_count": 21,
   "metadata": {},
   "outputs": [
    {
     "name": "stdout",
     "output_type": "stream",
     "text": [
      "Enter multiple values : 4 5 6 7 8 9 1 2 3\n",
      "List of number is:  [4, 5, 6, 7, 8, 9, 1, 2, 3]\n"
     ]
    }
   ],
   "source": [
    "# taking multiple inputs at a time\n",
    "x = [int(x) for x in input(\"Enter multiple values : \").split()]\n",
    "print(\"List of number is: \", x)"
   ]
  },
  {
   "cell_type": "code",
   "execution_count": 22,
   "metadata": {},
   "outputs": [
    {
     "name": "stdout",
     "output_type": "stream",
     "text": [
      "Enter multiple values : 1,2,3,4,5,6,7,8,9\n",
      "List of number is:  [1, 2, 3, 4, 5, 6, 7, 8, 9]\n"
     ]
    }
   ],
   "source": [
    "#The above examples take input separated by spaces. In case we wish to take input separated by comma (, ), we can use following:\n",
    "x = [int(x) for x in input(\"Enter multiple values : \").split(\",\")]\n",
    "print(\"List of number is: \", x)"
   ]
  },
  {
   "cell_type": "code",
   "execution_count": 23,
   "metadata": {},
   "outputs": [
    {
     "name": "stdout",
     "output_type": "stream",
     "text": [
      "Have A Nice Day\n"
     ]
    }
   ],
   "source": [
    "# Python 3 code for printing \n",
    "# on the same line printing\n",
    "print(\"Have\",end=\" \")\n",
    "print(\"A Nice Day\")"
   ]
  },
  {
   "cell_type": "code",
   "execution_count": 24,
   "metadata": {},
   "outputs": [
    {
     "name": "stdout",
     "output_type": "stream",
     "text": [
      "1 2 3 4 "
     ]
    }
   ],
   "source": [
    "a=[1,2,3,4]\n",
    "#printing element in the same line\n",
    "for i in range(4):\n",
    "    print(a[i], end=\" \")"
   ]
  },
  {
   "cell_type": "code",
   "execution_count": 25,
   "metadata": {},
   "outputs": [
    {
     "name": "stdout",
     "output_type": "stream",
     "text": [
      "GFG\n",
      "09-12-2016\n"
     ]
    }
   ],
   "source": [
    "#sep parameter in print()\n",
    "#code for disabling the softspace feature \n",
    "print('G','F','G', sep='')\n",
    "#for formatting a date \n",
    "print('09','12','2016', sep='-') "
   ]
  },
  {
   "cell_type": "code",
   "execution_count": 26,
   "metadata": {},
   "outputs": [
    {
     "name": "stdout",
     "output_type": "stream",
     "text": [
      "abcdefgh@gmail.com\n"
     ]
    }
   ],
   "source": [
    "#sep with end parameter\n",
    "print('abcd','efgh', sep='', end='@') \n",
    "print('gmail.com')"
   ]
  },
  {
   "cell_type": "markdown",
   "metadata": {},
   "source": [
    "### Formatting output using the format method :"
   ]
  },
  {
   "cell_type": "code",
   "execution_count": 28,
   "metadata": {},
   "outputs": [
    {
     "name": "stdout",
     "output_type": "stream",
     "text": [
      "Have A Nice Day You!\n",
      "Tom and Jerry\n",
      "Jerry and Tom\n"
     ]
    }
   ],
   "source": [
    "print(\"Have A {} Day {}!\".format('Nice','You'))\n",
    "print('{0} and {1}'.format('Tom','Jerry'))\n",
    "print('{1} and {0}'.format('Tom','Jerry'))"
   ]
  },
  {
   "cell_type": "markdown",
   "metadata": {},
   "source": [
    "### Formatting output using the String method :"
   ]
  },
  {
   "cell_type": "code",
   "execution_count": 30,
   "metadata": {},
   "outputs": [
    {
     "name": "stdout",
     "output_type": "stream",
     "text": [
      "Center aligned string :\n",
      "************Have a nice day*************\n"
     ]
    }
   ],
   "source": [
    "a = \"Have a nice day\"\n",
    "print(\"Center aligned string :\")\n",
    "print(a.center(40, '*')) #center( len, fillchr ) \n",
    "#len : The width of string to expand it."
   ]
  },
  {
   "cell_type": "code",
   "execution_count": 32,
   "metadata": {},
   "outputs": [
    {
     "name": "stdout",
     "output_type": "stream",
     "text": [
      "The left aligned string is : \n",
      "Have a nice day-------------------------\n"
     ]
    }
   ],
   "source": [
    "# Printing the left aligned  \n",
    "# string with \"-\" padding  \n",
    "print (\"The left aligned string is : \") \n",
    "print (a.ljust(40, '-'))"
   ]
  },
  {
   "cell_type": "code",
   "execution_count": 34,
   "metadata": {},
   "outputs": [
    {
     "name": "stdout",
     "output_type": "stream",
     "text": [
      "The left aligned string is : \n",
      "-------------------------Have a nice day\n"
     ]
    }
   ],
   "source": [
    "# Printing the right aligned  \n",
    "# string with \"-\" padding  \n",
    "print (\"The left aligned string is : \") \n",
    "print (a.rjust(40, '-'))"
   ]
  }
 ],
 "metadata": {
  "kernelspec": {
   "display_name": "Python 3",
   "language": "python",
   "name": "python3"
  },
  "language_info": {
   "codemirror_mode": {
    "name": "ipython",
    "version": 3
   },
   "file_extension": ".py",
   "mimetype": "text/x-python",
   "name": "python",
   "nbconvert_exporter": "python",
   "pygments_lexer": "ipython3",
   "version": "3.8.3"
  }
 },
 "nbformat": 4,
 "nbformat_minor": 4
}
