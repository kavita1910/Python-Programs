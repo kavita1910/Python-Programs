{
 "cells": [
  {
   "cell_type": "markdown",
   "metadata": {},
   "source": [
    "# Python Dictionary\n",
    "Dictionary in Python is an unordered collection of data values, used to store data values like a map, which unlike other Data Types that hold only single value as an element, Dictionary holds key:value pair. Key value is provided in the dictionary to make it more optimized."
   ]
  },
  {
   "cell_type": "code",
   "execution_count": 1,
   "metadata": {},
   "outputs": [
    {
     "name": "stdout",
     "output_type": "stream",
     "text": [
      "Dictionary with the use of integer keys :  {1: 'Hello', 2: 'From', 3: 'Another', 4: 'World'}\n",
      "\n",
      "Dictionary with the use of mixed keys :  {'Name': 'John', 1: [1, 2, 3, 4]}\n"
     ]
    }
   ],
   "source": [
    "#In Python, a Dictionary can be created by placing sequence of elements within curly {} braces, separated by ‘comma’\n",
    "Dict={1:'Hello', 2:'From', 3:'Another', 4:'World'}\n",
    "print(\"Dictionary with the use of integer keys : \",Dict)\n",
    "Dict={'Name':'John', 1:[1,2,3,4]}\n",
    "print(\"\\nDictionary with the use of mixed keys : \",Dict)"
   ]
  },
  {
   "cell_type": "code",
   "execution_count": 3,
   "metadata": {},
   "outputs": [
    {
     "name": "stdout",
     "output_type": "stream",
     "text": [
      "Empty Dictionary :  <class 'dict'>\n",
      "\n",
      "Dictionary with the use of dict() function :  {1: 'Hello', 2: 'From', 3: 'Another', 4: 'World'}\n",
      "\n",
      "Dictionary with each item as a pair:  {1: 'Hello', 2: 'World'}\n"
     ]
    }
   ],
   "source": [
    "#Dictionary can also be created by the built-in function dict().\n",
    "#An empty dictionary can be created by just placing to curly braces{}.\n",
    "Dict={}\n",
    "print(\"Empty Dictionary : \",dict)\n",
    "\n",
    "# Creating a Dictionary \n",
    "# with dict() method\n",
    "Dict=dict({1:'Hello', 2:'From', 3:'Another', 4:'World'})\n",
    "print(\"\\nDictionary with the use of dict() function : \",Dict)\n",
    "\n",
    "# Creating a Dictionary \n",
    "# with each item as a Pair\n",
    "Dict=dict([(1,'Hello'),(2,'World')])\n",
    "print(\"\\nDictionary with each item as a pair: \",Dict)"
   ]
  },
  {
   "cell_type": "markdown",
   "metadata": {},
   "source": [
    "### Nested Dictionary"
   ]
  },
  {
   "cell_type": "code",
   "execution_count": 4,
   "metadata": {},
   "outputs": [
    {
     "name": "stdout",
     "output_type": "stream",
     "text": [
      "{1: 'Hello', 2: 'From', 3: {'A': 'Santorini', 'B': 'In', 'C': 'Greece'}}\n"
     ]
    }
   ],
   "source": [
    "Dict = {1: 'Hello', 2: 'From',  \n",
    "        3:{'A' : 'Santorini', 'B' : 'In', 'C' : 'Greece'}} \n",
    "  \n",
    "print(Dict)  "
   ]
  },
  {
   "cell_type": "markdown",
   "metadata": {},
   "source": [
    "### Adding elements to the Dictionary\n",
    "Addition of elements can be done in multiple ways. One value at a time can be added to a Dictionary by defining value along with the key e.g. Dict[Key] = ‘Value’. Updating an existing value in a Dictionary can be done by using the built-in update() method. Nested key values can also be added to an existing Dictionary.\n",
    "Note- While adding a value, if the key value already exists, the value gets updated otherwise a new Key with the value is added to the Dictionary."
   ]
  },
  {
   "cell_type": "code",
   "execution_count": 5,
   "metadata": {},
   "outputs": [
    {
     "name": "stdout",
     "output_type": "stream",
     "text": [
      "Empty Dictionary :  {}\n",
      "\n",
      "Elements added to the dictionary :  {0: 'I', 1: 'Love', 2: 'NYC'}\n",
      "\n",
      "Elements added to the dictionary :  {0: 'I', 1: 'Love', 2: 'NYC', 'set_of_values': (2, 3, 4)}\n",
      "\n",
      "Updated dictionary is :  {0: 'I', 1: 'Love', 2: 'California', 'set_of_values': (2, 3, 4)}\n",
      "\n",
      "Nested Dictionary :  {0: 'I', 1: 'Love', 2: 'California', 'set_of_values': (2, 3, 4), 5: {'Nested': {1: 'Life', 2: 'Good'}}}\n"
     ]
    }
   ],
   "source": [
    "Dict={}\n",
    "print(\"Empty Dictionary : \",Dict)\n",
    "\n",
    "#adding elements one at a time\n",
    "Dict[0]='I'\n",
    "Dict[1]='Love'\n",
    "Dict[2]='NYC'\n",
    "print(\"\\nElements added to the dictionary : \",Dict)\n",
    "\n",
    "#adding set of values to the single of keys\n",
    "Dict['set_of_values']= 2, 3, 4\n",
    "print(\"\\nElements added to the dictionary : \",Dict)\n",
    "\n",
    "#updating values in the dictionary\n",
    "Dict[2]='California'\n",
    "print(\"\\nUpdated dictionary is : \",Dict)\n",
    "\n",
    "#adding nested key value to the dictionary\n",
    "Dict[5]={'Nested':{1:'Life', 2:'Good'}}\n",
    "print(\"\\nNested Dictionary : \",Dict)"
   ]
  },
  {
   "cell_type": "markdown",
   "metadata": {},
   "source": [
    "### Accessing elements from a Dictionary\n",
    "In order to access the items of a dictionary refer to its key name.Key can be used inside square brackets."
   ]
  },
  {
   "cell_type": "code",
   "execution_count": 6,
   "metadata": {
    "scrolled": true
   },
   "outputs": [
    {
     "name": "stdout",
     "output_type": "stream",
     "text": [
      "\n",
      "Accessing elements : \n",
      "LA\n",
      "Hello\n"
     ]
    }
   ],
   "source": [
    "Dict={1:'Hello', 2:'From', 'place':'LA'}\n",
    "print(\"\\nAccessing elements : \")\n",
    "print(Dict['place'])\n",
    "print(Dict[1])"
   ]
  },
  {
   "cell_type": "code",
   "execution_count": 7,
   "metadata": {},
   "outputs": [
    {
     "name": "stdout",
     "output_type": "stream",
     "text": [
      "\n",
      "Accessing elements : \n",
      "From\n"
     ]
    }
   ],
   "source": [
    "#There is also a method called get() that will also help in acessing the element from a dictionary.\n",
    "Dict={1:'Hello', 2:'From', 'place':'LA'}\n",
    "print(\"\\nAccessing elements : \")\n",
    "print(Dict.get(2))"
   ]
  },
  {
   "cell_type": "code",
   "execution_count": 9,
   "metadata": {},
   "outputs": [
    {
     "name": "stdout",
     "output_type": "stream",
     "text": [
      "{1: 'Hello', 2: 'From'}\n",
      "Hello\n",
      "Greece\n"
     ]
    }
   ],
   "source": [
    "#Accessing element of a nested dictionary\n",
    "#In order to access the value of any key in nested dictionary, use indexing [] syntax.\n",
    "Dict = {'Dict1' : {1: 'Hello', 2: 'From'},  \n",
    "        3:{'A' : 'Santorini', 'B' : 'In', 'C' : 'Greece'}} \n",
    "print(Dict['Dict1'])\n",
    "print(Dict['Dict1'][1])\n",
    "print(Dict[3]['C'])"
   ]
  },
  {
   "cell_type": "markdown",
   "metadata": {},
   "source": [
    "### Removing Elements from Dictionary\n",
    "Using del keyword"
   ]
  },
  {
   "cell_type": "code",
   "execution_count": 14,
   "metadata": {},
   "outputs": [
    {
     "name": "stdout",
     "output_type": "stream",
     "text": [
      "Initial dictionary :  {5: 'Welcome', 6: 'To', 7: 'Python', 'A': {1: 'Introduction', 2: 'in', 3: 'Python'}, 'B': {1: 'Thank', 2: 'You'}}\n"
     ]
    },
    {
     "ename": "TypeError",
     "evalue": "bad operand type for unary +: 'str'",
     "output_type": "error",
     "traceback": [
      "\u001b[1;31m---------------------------------------------------------------------------\u001b[0m",
      "\u001b[1;31mTypeError\u001b[0m                                 Traceback (most recent call last)",
      "\u001b[1;32m<ipython-input-14-89d286292626>\u001b[0m in \u001b[0;36m<module>\u001b[1;34m\u001b[0m\n\u001b[0;32m      5\u001b[0m \u001b[1;33m\u001b[0m\u001b[0m\n\u001b[0;32m      6\u001b[0m \u001b[1;32mdel\u001b[0m \u001b[0mDict\u001b[0m\u001b[1;33m[\u001b[0m\u001b[1;36m6\u001b[0m\u001b[1;33m]\u001b[0m\u001b[1;33m\u001b[0m\u001b[1;33m\u001b[0m\u001b[0m\n\u001b[1;32m----> 7\u001b[1;33m \u001b[0mprint\u001b[0m\u001b[1;33m(\u001b[0m\u001b[1;34m\"Deleting a specific key : \"\u001b[0m\u001b[1;33m,\u001b[0m \u001b[1;33m+\u001b[0m \u001b[0mstr\u001b[0m\u001b[1;33m(\u001b[0m\u001b[0mDict\u001b[0m\u001b[1;33m)\u001b[0m\u001b[1;33m)\u001b[0m\u001b[1;33m\u001b[0m\u001b[1;33m\u001b[0m\u001b[0m\n\u001b[0m\u001b[0;32m      8\u001b[0m \u001b[1;32mdel\u001b[0m \u001b[0mDict\u001b[0m\u001b[1;33m[\u001b[0m\u001b[1;34m'A'\u001b[0m\u001b[1;33m]\u001b[0m\u001b[1;33m[\u001b[0m\u001b[1;36m2\u001b[0m\u001b[1;33m]\u001b[0m\u001b[1;33m\u001b[0m\u001b[1;33m\u001b[0m\u001b[0m\n\u001b[0;32m      9\u001b[0m \u001b[0mprint\u001b[0m\u001b[1;33m(\u001b[0m\u001b[1;34m\"\\nDeleting key from nested dictionary : \"\u001b[0m\u001b[1;33m,\u001b[0m \u001b[1;33m+\u001b[0m \u001b[0mstr\u001b[0m\u001b[1;33m(\u001b[0m\u001b[0mDict\u001b[0m\u001b[1;33m)\u001b[0m\u001b[1;33m)\u001b[0m\u001b[1;33m\u001b[0m\u001b[1;33m\u001b[0m\u001b[0m\n",
      "\u001b[1;31mTypeError\u001b[0m: bad operand type for unary +: 'str'"
     ]
    }
   ],
   "source": [
    "Dict = { 5 : 'Welcome', 6 : 'To', 7 : 'Python', \n",
    "        'A' : {1 : 'Introduction', 2 : 'in', 3 : 'Python'}, \n",
    "        'B' : {1 : 'Thank', 2 : 'You'}} \n",
    "print(\"Initial dictionary : \",Dict)\n",
    "\n",
    "del Dict[6]\n",
    "print(\"Deleting a specific key : \",Dict)\n",
    "del Dict['A'][2]\n",
    "print(\"\\nDeleting key from nested dictionary : \",Dict)"
   ]
  },
  {
   "cell_type": "markdown",
   "metadata": {},
   "source": [
    "### Using pop() method\n",
    "Pop() method is used to return and delete the value of the key specified."
   ]
  },
  {
   "cell_type": "code",
   "execution_count": 15,
   "metadata": {},
   "outputs": [
    {
     "name": "stdout",
     "output_type": "stream",
     "text": [
      "\n",
      "Dictionary after deletion: {'a': 'from', 3: 'me'}\n",
      "Value associated to poped key is: Hello\n"
     ]
    }
   ],
   "source": [
    "Dict={1:'Hello', 'a':'from', 3:'me'}\n",
    "pop_ele = Dict.pop(1) \n",
    "print('\\nDictionary after deletion: ' + str(Dict)) \n",
    "print('Value associated to poped key is: ' + str(pop_ele))"
   ]
  },
  {
   "cell_type": "markdown",
   "metadata": {},
   "source": [
    "### Using popitem() method\n",
    "The popitem() returns and removes an arbitrary element (key, value) pair from the dictionary."
   ]
  },
  {
   "cell_type": "code",
   "execution_count": 16,
   "metadata": {},
   "outputs": [
    {
     "name": "stdout",
     "output_type": "stream",
     "text": [
      "\n",
      "Dictionary after deletion: {1: 'Geeks', 'name': 'For'}\n",
      "The arbitrary pair returned is: (3, 'Geeks')\n"
     ]
    }
   ],
   "source": [
    "Dict = {1: 'Geeks', 'name': 'For', 3: 'Geeks'} \n",
    "  \n",
    "# Deleting an arbitrary key \n",
    "# using popitem() function \n",
    "pop_ele = Dict.popitem() \n",
    "print(\"\\nDictionary after deletion: \" + str(Dict)) \n",
    "print(\"The arbitrary pair returned is: \" + str(pop_ele)) "
   ]
  },
  {
   "cell_type": "markdown",
   "metadata": {},
   "source": [
    "### Using clear() method\n",
    "All the items from a dictionary can be deleted at once by using clear() method."
   ]
  },
  {
   "cell_type": "code",
   "execution_count": 17,
   "metadata": {},
   "outputs": [
    {
     "name": "stdout",
     "output_type": "stream",
     "text": [
      "\n",
      "Deleting Entire Dictionary: \n",
      "{}\n"
     ]
    }
   ],
   "source": [
    "# Creating a Dictionary \n",
    "Dict = {1: 'Geeks', 'name': 'For', 3: 'Geeks'} \n",
    "  \n",
    "  \n",
    "# Deleting entire Dictionary \n",
    "Dict.clear() \n",
    "print(\"\\nDeleting Entire Dictionary: \") \n",
    "print(Dict) "
   ]
  },
  {
   "cell_type": "code",
   "execution_count": null,
   "metadata": {},
   "outputs": [],
   "source": []
  }
 ],
 "metadata": {
  "kernelspec": {
   "display_name": "Python 3",
   "language": "python",
   "name": "python3"
  },
  "language_info": {
   "codemirror_mode": {
    "name": "ipython",
    "version": 3
   },
   "file_extension": ".py",
   "mimetype": "text/x-python",
   "name": "python",
   "nbconvert_exporter": "python",
   "pygments_lexer": "ipython3",
   "version": "3.8.3"
  }
 },
 "nbformat": 4,
 "nbformat_minor": 4
}
