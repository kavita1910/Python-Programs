{
 "cells": [
  {
   "cell_type": "markdown",
   "metadata": {},
   "source": [
    "# PYTHON CONTROL FLOW"
   ]
  },
  {
   "cell_type": "markdown",
   "metadata": {},
   "source": [
    "#### If statement"
   ]
  },
  {
   "cell_type": "code",
   "execution_count": 27,
   "metadata": {},
   "outputs": [
    {
     "name": "stdout",
     "output_type": "stream",
     "text": [
      "10is less than 15\n",
      "hello!\n"
     ]
    }
   ],
   "source": [
    "i=16\n",
    "if (i>15):  # if true enters the loop \n",
    "    print(\"10is less than 15\")\n",
    "print(\"hello!\") # prints \"hello\" anyway"
   ]
  },
  {
   "cell_type": "markdown",
   "metadata": {},
   "source": [
    "#### If else statement"
   ]
  },
  {
   "cell_type": "code",
   "execution_count": 3,
   "metadata": {},
   "outputs": [
    {
     "name": "stdout",
     "output_type": "stream",
     "text": [
      "15 is greater\n",
      "I m in if block\n",
      "hello\n"
     ]
    }
   ],
   "source": [
    "i=2\n",
    "if (i<15): # if true enters the 'if' loop\n",
    "    print(\"15 is greater\")\n",
    "    print(\"I m in if block\")\n",
    "else : # if false enters the 'else' loop\n",
    "    print(\"15 is smaller\")\n",
    "    print(\"i am in else block\")\n",
    "print(\"hello\") # prints \"hello\" anyway"
   ]
  },
  {
   "cell_type": "markdown",
   "metadata": {},
   "source": [
    "#### Nested if"
   ]
  },
  {
   "cell_type": "code",
   "execution_count": 5,
   "metadata": {},
   "outputs": [
    {
     "name": "stdout",
     "output_type": "stream",
     "text": [
      "hello\n",
      "hello\n"
     ]
    }
   ],
   "source": [
    "i=21\n",
    "if (i==10):\n",
    "    print(\"It is TRUE\")\n",
    "    if (i<15):\n",
    "        print(\"15 is a greater number\")\n",
    "        if(i>12):\n",
    "            print(\"i is a greater number\")\n",
    "else :\n",
    "    print(\"hello\")\n",
    "print(\"hello\")"
   ]
  },
  {
   "cell_type": "markdown",
   "metadata": {},
   "source": [
    "#### if-elif-else ladder"
   ]
  },
  {
   "cell_type": "code",
   "execution_count": 11,
   "metadata": {},
   "outputs": [
    {
     "name": "stdout",
     "output_type": "stream",
     "text": [
      "None\n",
      "hello\n"
     ]
    }
   ],
   "source": [
    "i=21\n",
    "if (i==10):\n",
    "    print(\"it is TRUE\")\n",
    "elif(i==15):\n",
    "    print(\"it is true\")\n",
    "elif(i==12):\n",
    "    print(\"i is less than 15\")\n",
    "else:\n",
    "    print(\"None\")\n",
    "print(\"hello\")"
   ]
  },
  {
   "cell_type": "markdown",
   "metadata": {},
   "source": [
    "### Short hand if\n",
    "##### syntax - if condition: statement"
   ]
  },
  {
   "cell_type": "code",
   "execution_count": 14,
   "metadata": {},
   "outputs": [
    {
     "name": "stdout",
     "output_type": "stream",
     "text": [
      "it is TRUE\n"
     ]
    }
   ],
   "source": [
    "i=10\n",
    "if (i==10): print(\"it is TRUE\")"
   ]
  },
  {
   "cell_type": "markdown",
   "metadata": {},
   "source": [
    "### Short hand if else\n",
    "#### syntax - statement_when_True if condition else statement_when_False"
   ]
  },
  {
   "cell_type": "code",
   "execution_count": 17,
   "metadata": {},
   "outputs": [
    {
     "name": "stdout",
     "output_type": "stream",
     "text": [
      "True\n"
     ]
    }
   ],
   "source": [
    "i=10\n",
    "print(\"True\") if i<15 else print(\"false\")"
   ]
  },
  {
   "cell_type": "markdown",
   "metadata": {},
   "source": [
    "## Chaining comparison operators in Python"
   ]
  },
  {
   "cell_type": "code",
   "execution_count": 22,
   "metadata": {},
   "outputs": [
    {
     "name": "stdout",
     "output_type": "stream",
     "text": [
      "True\n",
      "True\n",
      "True\n",
      "True\n"
     ]
    }
   ],
   "source": [
    "i=5\n",
    "print(1<i<10)\n",
    "print(1<i<=5)\n",
    "print(1<i*1<=5)\n",
    "print(10>i<=9)"
   ]
  },
  {
   "cell_type": "code",
   "execution_count": 26,
   "metadata": {},
   "outputs": [
    {
     "name": "stdout",
     "output_type": "stream",
     "text": [
      "True\n",
      "False\n",
      "True\n"
     ]
    }
   ],
   "source": [
    "a, b, c, d, e, f = 0, 5, 10, 15, 0, 20\n",
    "exp1 = a <= b < c < d is not e <20\n",
    "exp2 = a <= b < c < d is not e >20\n",
    "exp3 = a is e\n",
    "print(exp1)\n",
    "print(exp2)\n",
    "print(exp3)"
   ]
  },
  {
   "cell_type": "markdown",
   "metadata": {},
   "source": [
    "## For Loops"
   ]
  },
  {
   "cell_type": "code",
   "execution_count": 1,
   "metadata": {},
   "outputs": [
    {
     "name": "stdout",
     "output_type": "stream",
     "text": [
      "List Iterations\n",
      "read\n",
      "write\n",
      "practice\n"
     ]
    }
   ],
   "source": [
    "print(\"List Iterations\") # Iterating over a list  \n",
    "l = ['read','write','practice']\n",
    "for i in l:\n",
    "    print(i)"
   ]
  },
  {
   "cell_type": "code",
   "execution_count": 2,
   "metadata": {},
   "outputs": [
    {
     "name": "stdout",
     "output_type": "stream",
     "text": [
      "Tuple Iteration\n",
      "read\n",
      "write\n",
      "practice\n"
     ]
    }
   ],
   "source": [
    "print(\"Tuple Iteration\") # Iterating over a tuple\n",
    "t = ('read','write','practice')\n",
    "for i in t:\n",
    "    print(i)"
   ]
  },
  {
   "cell_type": "code",
   "execution_count": 4,
   "metadata": {},
   "outputs": [
    {
     "name": "stdout",
     "output_type": "stream",
     "text": [
      "String Iteration\n",
      "G\n",
      "e\n",
      "e\n",
      "k\n",
      "s\n"
     ]
    }
   ],
   "source": [
    "print(\"String Iteration\") # Iterating over a string\n",
    "s = \"Geeks\"\n",
    "for i in s :  \n",
    "    print(i)"
   ]
  },
  {
   "cell_type": "code",
   "execution_count": 1,
   "metadata": {},
   "outputs": [
    {
     "name": "stdout",
     "output_type": "stream",
     "text": [
      "Dictionary iteration : \n",
      "xyz 123\n",
      "abc 345\n"
     ]
    }
   ],
   "source": [
    "print(\"Dictionary iteration : \")\n",
    "d = dict()\n",
    "d['xyz']=123\n",
    "d['abc']=345\n",
    "for i in d:\n",
    "    print(\"%s %d\" %(i, d[i]))\n",
    "#%s is used as a placeholder for string values you want to inject into a formatted string. \n",
    "#%d is used as a placeholder for numeric or decimal values."
   ]
  },
  {
   "cell_type": "markdown",
   "metadata": {},
   "source": [
    "### Loop Control Statements\n",
    "Loop control statements change execution from its normal sequence. When execution leaves a scope, all automatic objects that were created in that scope are destroyed. Python supports the following control statements. \n",
    " \n",
    "\n",
    "#### Continue Statement: It returns the control to the beginning of the loop."
   ]
  },
  {
   "cell_type": "code",
   "execution_count": 2,
   "metadata": {},
   "outputs": [
    {
     "name": "stdout",
     "output_type": "stream",
     "text": [
      "Current Letter :  h\n",
      "Current Letter :  l\n",
      "Current Letter :  l\n",
      "Current Letter :  w\n",
      "Current Letter :  r\n",
      "Current Letter :  l\n",
      "Current Letter :  d\n",
      "Current Letter :  !\n"
     ]
    }
   ],
   "source": [
    "for letter in 'helloworld!':\n",
    "    if letter == 'e' or letter == 'o':\n",
    "        continue\n",
    "    print(\"Current Letter : \",letter)"
   ]
  },
  {
   "cell_type": "markdown",
   "metadata": {},
   "source": [
    "##### Break Statement: It brings control out of the loop"
   ]
  },
  {
   "cell_type": "code",
   "execution_count": 3,
   "metadata": {},
   "outputs": [
    {
     "name": "stdout",
     "output_type": "stream",
     "text": [
      "Current Letter :  h\n"
     ]
    }
   ],
   "source": [
    "# break the loop as soon it sees 'e' or 'o'\n",
    "for letter in 'helloworld!':\n",
    "    if letter == 'e' or letter == 'o':\n",
    "        break\n",
    "    print(\"Current Letter : \",letter)"
   ]
  },
  {
   "cell_type": "markdown",
   "metadata": {},
   "source": [
    "##### Pass Statement: We use pass statement to write empty loops. Pass is also used for empty control statements, function and classes."
   ]
  },
  {
   "cell_type": "code",
   "execution_count": 4,
   "metadata": {},
   "outputs": [
    {
     "name": "stdout",
     "output_type": "stream",
     "text": [
      "Last letter :  !\n"
     ]
    }
   ],
   "source": [
    "for letter in 'helloworld!':\n",
    "    pass\n",
    "print(\"Last letter : \",letter)"
   ]
  },
  {
   "cell_type": "markdown",
   "metadata": {},
   "source": [
    "### range() function\n",
    "start: integer starting from which the sequence of integers is to be returned \n",
    " \n",
    "stop: integer before which the sequence of integers is to be returned. \n",
    "The range of integers end at stop – 1. \n",
    " \n",
    "step: integer value which determines the increment between each integer in the sequence "
   ]
  },
  {
   "cell_type": "code",
   "execution_count": 5,
   "metadata": {},
   "outputs": [
    {
     "name": "stdout",
     "output_type": "stream",
     "text": [
      "0 1 2 3 4 5 6 7 8 9 \n",
      "1 2 3 4 5 6 7 8 9 \n",
      "Sum is :  36\n"
     ]
    }
   ],
   "source": [
    "for i in range(10):\n",
    "    print(i, end=\" \")\n",
    "print()\n",
    "\n",
    "l=[1,2,3,4,5,6,7,8,9]\n",
    "for i in range(len(l)):\n",
    "    print(l[i], end=\" \")\n",
    "print()\n",
    "\n",
    "sum=0\n",
    "for i in range(1,9):\n",
    "    sum=sum+i\n",
    "print(\"Sum is : \",sum)"
   ]
  },
  {
   "cell_type": "code",
   "execution_count": 7,
   "metadata": {},
   "outputs": [
    {
     "name": "stdout",
     "output_type": "stream",
     "text": [
      "0 3 6 9 12 15 18 21 24 27 "
     ]
    }
   ],
   "source": [
    "for i in range(0,30,3):\n",
    "    print(i, end=\" \")\n",
    "    "
   ]
  },
  {
   "cell_type": "markdown",
   "metadata": {},
   "source": [
    "#### Decrementing with range using negative step :"
   ]
  },
  {
   "cell_type": "code",
   "execution_count": 8,
   "metadata": {},
   "outputs": [
    {
     "name": "stdout",
     "output_type": "stream",
     "text": [
      "25 23 21 19 17 15 13 11 9 7 5 3 "
     ]
    }
   ],
   "source": [
    "for i in range(25,2,-2):\n",
    "    print(i, end=\" \")"
   ]
  },
  {
   "cell_type": "code",
   "execution_count": 9,
   "metadata": {},
   "outputs": [
    {
     "name": "stdout",
     "output_type": "stream",
     "text": [
      "25 22 19 16 13 10 7 4 1 -2 -5 "
     ]
    }
   ],
   "source": [
    "for i in range(25, -6, -3): \n",
    "    print(i, end =\" \")"
   ]
  },
  {
   "cell_type": "code",
   "execution_count": 10,
   "metadata": {},
   "outputs": [],
   "source": [
    "#Python range() function doesn’t support the float numbers. i.e. \n",
    "#user cannot use floating-point or non-integer number in any of its argument. User can use only integer numbers."
   ]
  },
  {
   "cell_type": "markdown",
   "metadata": {},
   "source": [
    "#### Concatenation of two range() functions\n",
    "The result from two range() functions can be concatenated by using the chain() method of itertools module. The chain() method is used to print all the values in iterable targets one after another mentioned in its arguments."
   ]
  },
  {
   "cell_type": "code",
   "execution_count": 12,
   "metadata": {},
   "outputs": [
    {
     "name": "stdout",
     "output_type": "stream",
     "text": [
      "Concatinating the results : \n",
      "0 1 2 3 4 10 12 14 16 18 "
     ]
    }
   ],
   "source": [
    "from itertools import chain\n",
    "print(\"Concatinating the results : \")\n",
    "a = chain(range(5), range(10,20,2))\n",
    "for i in a:\n",
    "    print(i, end=\" \")"
   ]
  },
  {
   "cell_type": "markdown",
   "metadata": {},
   "source": [
    "#### Accessing range() with index value"
   ]
  },
  {
   "cell_type": "code",
   "execution_count": 13,
   "metadata": {},
   "outputs": [
    {
     "name": "stdout",
     "output_type": "stream",
     "text": [
      "0\n",
      "5\n",
      "8\n"
     ]
    }
   ],
   "source": [
    "a = range(10)[0]\n",
    "print(a)\n",
    "a = range(10)[5]\n",
    "print(a)\n",
    "a = range(10)[-2]\n",
    "print(a)"
   ]
  },
  {
   "cell_type": "code",
   "execution_count": 14,
   "metadata": {},
   "outputs": [
    {
     "data": {
      "text/plain": [
       "range"
      ]
     },
     "execution_count": 14,
     "metadata": {},
     "output_type": "execute_result"
    }
   ],
   "source": [
    "type(range(3)) \n"
   ]
  },
  {
   "cell_type": "markdown",
   "metadata": {},
   "source": [
    "### for-else loop\n",
    "The else block just after for/while is executed only when the loop is NOT terminated by a break statement."
   ]
  },
  {
   "cell_type": "code",
   "execution_count": 16,
   "metadata": {},
   "outputs": [
    {
     "name": "stdout",
     "output_type": "stream",
     "text": [
      "1\n",
      "2\n",
      "3\n",
      "No Break\n",
      "\n",
      "1\n"
     ]
    }
   ],
   "source": [
    "for i in range(1, 4):  \n",
    "    print(i)  \n",
    "else: # Executed because no break in for  \n",
    "    print(\"No Break\\n\")  \n",
    "  \n",
    "for i in range(1, 4):  \n",
    "    print(i)  \n",
    "    break\n",
    "else: # Not executed as there is a break  \n",
    "    print(\"No Break\")"
   ]
  },
  {
   "cell_type": "code",
   "execution_count": null,
   "metadata": {},
   "outputs": [],
   "source": []
  }
 ],
 "metadata": {
  "kernelspec": {
   "display_name": "Python 3",
   "language": "python",
   "name": "python3"
  },
  "language_info": {
   "codemirror_mode": {
    "name": "ipython",
    "version": 3
   },
   "file_extension": ".py",
   "mimetype": "text/x-python",
   "name": "python",
   "nbconvert_exporter": "python",
   "pygments_lexer": "ipython3",
   "version": "3.8.3"
  }
 },
 "nbformat": 4,
 "nbformat_minor": 4
}
