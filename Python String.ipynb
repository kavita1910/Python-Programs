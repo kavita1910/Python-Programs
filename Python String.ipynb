{
 "cells": [
  {
   "cell_type": "markdown",
   "metadata": {},
   "source": [
    "# Python Datatypes"
   ]
  },
  {
   "cell_type": "code",
   "execution_count": 1,
   "metadata": {},
   "outputs": [],
   "source": [
    "#Strings in Python\n",
    "#A string is a sequence of characters.\n",
    "#It can be declared in python by using double quotes. Strings are immutable, i.e., they cannot be changed."
   ]
  },
  {
   "cell_type": "code",
   "execution_count": 2,
   "metadata": {},
   "outputs": [],
   "source": [
    "#Lists in Python\n",
    "#A single list can contain strings, integers, as well as objects. Lists can also be used for implementing stacks and queues. \n",
    "#Lists are mutable, i.e., they can be altered once declared."
   ]
  },
  {
   "cell_type": "code",
   "execution_count": 3,
   "metadata": {},
   "outputs": [],
   "source": [
    "#Tuples in Python\n",
    "#A tuple is a sequence of immutable Python objects. \n",
    "#Tuples are just like lists with the exception that tuples cannot be changed once declared. \n",
    "#Tuples are usually faster than lists."
   ]
  },
  {
   "cell_type": "code",
   "execution_count": null,
   "metadata": {},
   "outputs": [],
   "source": [
    "#Iterations in Python\n",
    "#Iterations or looping can be performed in python by ‘for’ and ‘while’ loops. \n",
    "#Apart from iterating upon a particular condition, we can also iterate on strings, lists, and tuples."
   ]
  },
  {
   "cell_type": "code",
   "execution_count": 5,
   "metadata": {},
   "outputs": [
    {
     "name": "stdout",
     "output_type": "stream",
     "text": [
      "Hello World!\n",
      "[1, 'a', 'string', 3]\n",
      "[1, 'a', 'string', 3, 6]\n",
      "a\n",
      "[1, 'a', 'string', 3]\n",
      "a\n"
     ]
    }
   ],
   "source": [
    "#Assigning string to a variable\n",
    "a = \"Hello World!\"\n",
    "print(a)\n",
    "\n",
    "#Declaring a list\n",
    "L =[1, 'a', \"string\", 1+2]\n",
    "print(L)\n",
    "L.append(6)\n",
    "print(L)\n",
    "print(L[1])\n",
    "\n",
    "#Tuple\n",
    "T =[1, 'a', \"string\", 1+2]\n",
    "print(T)\n",
    "print(T[1])"
   ]
  },
  {
   "cell_type": "code",
   "execution_count": 8,
   "metadata": {},
   "outputs": [
    {
     "name": "stdout",
     "output_type": "stream",
     "text": [
      "2\n",
      "3\n",
      "4\n",
      "5\n",
      "6\n",
      "7\n",
      "8\n",
      "9\n",
      "10\n"
     ]
    }
   ],
   "source": [
    "#Iteration by while loop for a condition\n",
    "i=1\n",
    "while(i<10):\n",
    "    i+=1\n",
    "    print(i)"
   ]
  },
  {
   "cell_type": "code",
   "execution_count": 9,
   "metadata": {},
   "outputs": [
    {
     "name": "stdout",
     "output_type": "stream",
     "text": [
      "H\n",
      "e\n",
      "l\n",
      "l\n",
      "o\n",
      " \n",
      "W\n",
      "o\n",
      "r\n",
      "l\n",
      "d\n",
      "!\n"
     ]
    }
   ],
   "source": [
    "# Iteration by for loop on string\n",
    "s=\"Hello World!\"\n",
    "for i in s:\n",
    "    print (i)"
   ]
  },
  {
   "cell_type": "code",
   "execution_count": 10,
   "metadata": {},
   "outputs": [
    {
     "name": "stdout",
     "output_type": "stream",
     "text": [
      "1\n",
      "2\n",
      "3\n",
      "4\n",
      "5\n",
      "6\n"
     ]
    }
   ],
   "source": [
    "# Iteration by for loop on list\n",
    "L =[1,2,3,4,5,6]\n",
    "for i in L:\n",
    "    print(i)"
   ]
  },
  {
   "cell_type": "code",
   "execution_count": 11,
   "metadata": {},
   "outputs": [
    {
     "name": "stdout",
     "output_type": "stream",
     "text": [
      "0\n",
      "1\n",
      "2\n",
      "3\n",
      "4\n",
      "5\n",
      "6\n",
      "7\n",
      "8\n",
      "9\n"
     ]
    }
   ],
   "source": [
    "#Iteration by for loop for range\n",
    "for i in range(0,10):\n",
    "    print(i)"
   ]
  },
  {
   "cell_type": "markdown",
   "metadata": {},
   "source": [
    "# Python String"
   ]
  },
  {
   "cell_type": "code",
   "execution_count": 12,
   "metadata": {},
   "outputs": [
    {
     "name": "stdout",
     "output_type": "stream",
     "text": [
      "\n",
      "String with the use of Triple Quotes: \n",
      "I'm a Geek and I live in a world of \"Geeks\"\n",
      "\n",
      "Creating a multiline String: \n",
      "Geeks \n",
      "            For \n",
      "            Life\n"
     ]
    }
   ],
   "source": [
    "# Creating a String \n",
    "# with triple Quotes \n",
    "String1 = '''I'm a Geek and I live in a world of \"Geeks\"'''\n",
    "print(\"\\nString with the use of Triple Quotes: \") \n",
    "print(String1) \n",
    "  \n",
    "# Creating String with triple \n",
    "# Quotes allows multiple lines \n",
    "String1 = '''Geeks \n",
    "            For \n",
    "            Life'''\n",
    "print(\"\\nCreating a multiline String: \") \n",
    "print(String1)"
   ]
  },
  {
   "cell_type": "markdown",
   "metadata": {},
   "source": [
    "### String Indexing\n",
    "individual characters of a String can be accessed by using the method of Indexing.\n",
    "Indexing allows negative address references to access characters from the back of the String, \n",
    "e.g. -1 refers to the last character, -2 refers to the second last character and so on."
   ]
  },
  {
   "cell_type": "markdown",
   "metadata": {},
   "source": [
    "While accessing an index out of the range will cause an IndexError. \n",
    "Only Integers are allowed to be passed as an index, float or other types will cause a TypeError."
   ]
  },
  {
   "cell_type": "code",
   "execution_count": 16,
   "metadata": {},
   "outputs": [
    {
     "name": "stdout",
     "output_type": "stream",
     "text": [
      "Intial value of the string :\n",
      "Hello, World!\n",
      "First letter of the string :H\n",
      "Last letter of the string :!\n"
     ]
    }
   ],
   "source": [
    "str1 = \"Hello, World!\"\n",
    "print(\"Intial value of the string :\")\n",
    "print(str1)\n",
    "\n",
    "print(\"First letter of the string :\",end='')\n",
    "print(str1[0])\n",
    "\n",
    "print(\"Last letter of the string :\",end='')\n",
    "print(str1[-1])"
   ]
  },
  {
   "cell_type": "markdown",
   "metadata": {},
   "source": [
    "### String Slicing\n",
    "To access a range of characters in the String, method of slicing is used. Slicing in a String is done by using a Slicing operator (colon ':')."
   ]
  },
  {
   "cell_type": "code",
   "execution_count": 21,
   "metadata": {},
   "outputs": [
    {
     "name": "stdout",
     "output_type": "stream",
     "text": [
      "Intial value of the string : Hello, World!\n",
      "\n",
      "3 to 10 character are : lo, Wor\n",
      "\n",
      "3 & 2nd last character : lo, Worl\n"
     ]
    }
   ],
   "source": [
    "str2 = \"Hello, World!\"\n",
    "print(\"Intial value of the string : \", end='')\n",
    "print(str2)\n",
    "\n",
    "#print 3 to 10 character\n",
    "print(\"\\n3 to 10 character are : \",end='')\n",
    "print(str2[3:10])\n",
    "\n",
    "#print 3 & 2nd last character\n",
    "print(\"\\n3 & 2nd last character : \",end='')\n",
    "print(str2[3:-2])"
   ]
  },
  {
   "cell_type": "markdown",
   "metadata": {},
   "source": [
    "### Deleting/Updating from a String\n",
    "Although deletion of entire String is possible with the use of a built-in del keyword. This is because Strings are immutable, hence elements of a String cannot be changed once it has been assigned. Only new strings can be reassigned to the same name."
   ]
  },
  {
   "cell_type": "code",
   "execution_count": 1,
   "metadata": {},
   "outputs": [
    {
     "name": "stdout",
     "output_type": "stream",
     "text": [
      "Initial String is : Hello World\n"
     ]
    },
    {
     "ename": "TypeError",
     "evalue": "'str' object does not support item assignment",
     "output_type": "error",
     "traceback": [
      "\u001b[1;31m---------------------------------------------------------------------------\u001b[0m",
      "\u001b[1;31mTypeError\u001b[0m                                 Traceback (most recent call last)",
      "\u001b[1;32m<ipython-input-1-e840ad677cd2>\u001b[0m in \u001b[0;36m<module>\u001b[1;34m\u001b[0m\n\u001b[0;32m      4\u001b[0m \u001b[0mprint\u001b[0m\u001b[1;33m(\u001b[0m\u001b[1;34m\"Initial String is :\"\u001b[0m\u001b[1;33m,\u001b[0m\u001b[0mstring1\u001b[0m\u001b[1;33m)\u001b[0m\u001b[1;33m\u001b[0m\u001b[1;33m\u001b[0m\u001b[0m\n\u001b[0;32m      5\u001b[0m \u001b[1;33m\u001b[0m\u001b[0m\n\u001b[1;32m----> 6\u001b[1;33m \u001b[0mstring1\u001b[0m\u001b[1;33m[\u001b[0m\u001b[1;36m2\u001b[0m\u001b[1;33m]\u001b[0m\u001b[1;33m=\u001b[0m\u001b[1;34m'p'\u001b[0m\u001b[1;33m\u001b[0m\u001b[1;33m\u001b[0m\u001b[0m\n\u001b[0m\u001b[0;32m      7\u001b[0m \u001b[0mprint\u001b[0m\u001b[1;33m(\u001b[0m\u001b[1;34m\"\\nUpdated string is :\"\u001b[0m\u001b[1;33m,\u001b[0m\u001b[0mstring1\u001b[0m\u001b[1;33m)\u001b[0m\u001b[1;33m\u001b[0m\u001b[1;33m\u001b[0m\u001b[0m\n",
      "\u001b[1;31mTypeError\u001b[0m: 'str' object does not support item assignment"
     ]
    }
   ],
   "source": [
    "# Python Program to Update \n",
    "# character of a String\n",
    "string1 = \"Hello World\"\n",
    "print(\"Initial String is :\",string1)\n",
    "\n",
    "string1[2]='p'\n",
    "print(\"\\nUpdated string is :\",string1)"
   ]
  },
  {
   "cell_type": "code",
   "execution_count": 2,
   "metadata": {},
   "outputs": [
    {
     "name": "stdout",
     "output_type": "stream",
     "text": [
      "Initial String is : Hello world\n",
      "\n",
      "Updated string is : Welcome to the world\n"
     ]
    }
   ],
   "source": [
    "string2=\"Hello world\"\n",
    "print(\"Initial String is :\",string2)\n",
    "\n",
    "string2=\"Welcome to the world\"\n",
    "print(\"\\nUpdated string is :\",string2)"
   ]
  },
  {
   "cell_type": "code",
   "execution_count": 3,
   "metadata": {},
   "outputs": [
    {
     "name": "stdout",
     "output_type": "stream",
     "text": [
      "Initial String: \n",
      "Hello, I'm a Geek\n"
     ]
    },
    {
     "ename": "TypeError",
     "evalue": "'str' object doesn't support item deletion",
     "output_type": "error",
     "traceback": [
      "\u001b[1;31m---------------------------------------------------------------------------\u001b[0m",
      "\u001b[1;31mTypeError\u001b[0m                                 Traceback (most recent call last)",
      "\u001b[1;32m<ipython-input-3-b75e1bf06549>\u001b[0m in \u001b[0;36m<module>\u001b[1;34m\u001b[0m\n\u001b[0;32m      5\u001b[0m \u001b[1;31m# Deleting a character\u001b[0m\u001b[1;33m\u001b[0m\u001b[1;33m\u001b[0m\u001b[1;33m\u001b[0m\u001b[0m\n\u001b[0;32m      6\u001b[0m \u001b[1;31m# of the String\u001b[0m\u001b[1;33m\u001b[0m\u001b[1;33m\u001b[0m\u001b[1;33m\u001b[0m\u001b[0m\n\u001b[1;32m----> 7\u001b[1;33m \u001b[1;32mdel\u001b[0m \u001b[0mString1\u001b[0m\u001b[1;33m[\u001b[0m\u001b[1;36m2\u001b[0m\u001b[1;33m]\u001b[0m\u001b[1;33m\u001b[0m\u001b[1;33m\u001b[0m\u001b[0m\n\u001b[0m\u001b[0;32m      8\u001b[0m \u001b[0mprint\u001b[0m\u001b[1;33m(\u001b[0m\u001b[1;34m\"\\nDeleting character at 2nd Index: \"\u001b[0m\u001b[1;33m)\u001b[0m\u001b[1;33m\u001b[0m\u001b[1;33m\u001b[0m\u001b[0m\n\u001b[0;32m      9\u001b[0m \u001b[0mprint\u001b[0m\u001b[1;33m(\u001b[0m\u001b[0mString1\u001b[0m\u001b[1;33m)\u001b[0m\u001b[1;33m\u001b[0m\u001b[1;33m\u001b[0m\u001b[0m\n",
      "\u001b[1;31mTypeError\u001b[0m: 'str' object doesn't support item deletion"
     ]
    }
   ],
   "source": [
    "String1 = \"Hello, I'm a Geek\"\n",
    "print(\"Initial String: \") \n",
    "print(String1) \n",
    "  \n",
    "# Deleting a character  \n",
    "# of the String \n",
    "del String1[2]  \n",
    "print(\"\\nDeleting character at 2nd Index: \") \n",
    "print(String1)"
   ]
  },
  {
   "cell_type": "code",
   "execution_count": null,
   "metadata": {},
   "outputs": [],
   "source": [
    "#Deletion of entire string is possible with the use of del keyword. \n",
    "#Further, if we try to print the string, this will produce an error because String is deleted and \n",
    "#is unavailable to be printed"
   ]
  },
  {
   "cell_type": "code",
   "execution_count": 4,
   "metadata": {},
   "outputs": [
    {
     "name": "stdout",
     "output_type": "stream",
     "text": [
      "Initial String: \n",
      "Hello, I'm a Geek\n",
      "\n",
      "Deleting entire String: \n"
     ]
    },
    {
     "ename": "NameError",
     "evalue": "name 'String1' is not defined",
     "output_type": "error",
     "traceback": [
      "\u001b[1;31m---------------------------------------------------------------------------\u001b[0m",
      "\u001b[1;31mNameError\u001b[0m                                 Traceback (most recent call last)",
      "\u001b[1;32m<ipython-input-4-f0c36f762a88>\u001b[0m in \u001b[0;36m<module>\u001b[1;34m\u001b[0m\n\u001b[0;32m     10\u001b[0m \u001b[1;32mdel\u001b[0m \u001b[0mString1\u001b[0m\u001b[1;33m\u001b[0m\u001b[1;33m\u001b[0m\u001b[0m\n\u001b[0;32m     11\u001b[0m \u001b[0mprint\u001b[0m\u001b[1;33m(\u001b[0m\u001b[1;34m\"\\nDeleting entire String: \"\u001b[0m\u001b[1;33m)\u001b[0m\u001b[1;33m\u001b[0m\u001b[1;33m\u001b[0m\u001b[0m\n\u001b[1;32m---> 12\u001b[1;33m \u001b[0mprint\u001b[0m\u001b[1;33m(\u001b[0m\u001b[0mString1\u001b[0m\u001b[1;33m)\u001b[0m\u001b[1;33m\u001b[0m\u001b[1;33m\u001b[0m\u001b[0m\n\u001b[0m",
      "\u001b[1;31mNameError\u001b[0m: name 'String1' is not defined"
     ]
    }
   ],
   "source": [
    "# Python Program to Delete \n",
    "# entire String \n",
    "  \n",
    "String1 = \"Hello, I'm a Geek\"\n",
    "print(\"Initial String: \") \n",
    "print(String1) \n",
    "  \n",
    "# Deleting a String \n",
    "# with the use of del \n",
    "del String1  \n",
    "print(\"\\nDeleting entire String: \") \n",
    "print(String1) "
   ]
  },
  {
   "cell_type": "markdown",
   "metadata": {},
   "source": [
    "### Escape Sequencing in Python\n",
    "While printing Strings with single and double quotes in it causes SyntaxError because String already contains Single and Double Quotes and hence cannot be printed with the use of either of these. Hence, to print such a String either Triple Quotes are used or Escape sequences are used to print such Strings.\n",
    "Escape sequences start with a backslash and can be interpreted differently. If single quotes are used to represent a string, then all the single quotes present in the string must be escaped and same is done for Double Quotes."
   ]
  },
  {
   "cell_type": "code",
   "execution_count": 5,
   "metadata": {},
   "outputs": [
    {
     "name": "stdout",
     "output_type": "stream",
     "text": [
      "Initial string : I'm a \"boy\"\n",
      "\n",
      "Escaping single quote : I'm a \"boy\"\n",
      "\n",
      "Escaping double quote : I'm a \"boy\"\n",
      "\n",
      "Escaping Backslashes: \n",
      "C:\\string\\python\\\n"
     ]
    }
   ],
   "source": [
    "s1='''I'm a \"boy\"'''\n",
    "print(\"Initial string :\",s1)\n",
    "\n",
    "#Escaping single quote\n",
    "s1 ='I\\'m a \"boy\"'\n",
    "print(\"\\nEscaping single quote :\",s1)\n",
    "\n",
    "#Escaping double quote\n",
    "s1 =\"I'm a \\\"boy\\\"\"\n",
    "print(\"\\nEscaping double quote :\",s1)\n",
    " \n",
    "# Printing Paths with the  \n",
    "# use of Escape Sequences\n",
    "s1=\"C:\\\\string\\\\python\\\\\"\n",
    "print(\"\\nEscaping Backslashes: \") \n",
    "print(s1) "
   ]
  },
  {
   "cell_type": "markdown",
   "metadata": {},
   "source": [
    "To ignore the escape sequences in a String, r or R is used, this implies that the string is a raw string and escape sequences inside it are to be ignored."
   ]
  },
  {
   "cell_type": "code",
   "execution_count": 6,
   "metadata": {},
   "outputs": [
    {
     "name": "stdout",
     "output_type": "stream",
     "text": [
      "\n",
      "Printing in HEX with the use of Escape Sequences: \n",
      "This is Geeks in HEX\n",
      "\n",
      "Printing Raw String in HEX Format: \n",
      "This is \\x47\\x65\\x65\\x6b\\x73 in \\x48\\x45\\x58\n"
     ]
    }
   ],
   "source": [
    "String1 = \"This is \\x47\\x65\\x65\\x6b\\x73 in \\x48\\x45\\x58\"\n",
    "print(\"\\nPrinting in HEX with the use of Escape Sequences: \") \n",
    "print(String1) \n",
    "  \n",
    "# Using raw String to  \n",
    "# ignore Escape Sequences \n",
    "String1 = r\"This is \\x47\\x65\\x65\\x6b\\x73 in \\x48\\x45\\x58\"\n",
    "print(\"\\nPrinting Raw String in HEX Format: \") \n",
    "print(String1)"
   ]
  },
  {
   "cell_type": "markdown",
   "metadata": {},
   "source": [
    "### Formatting of Strings\n",
    "Strings in Python can be formatted with the use of format() method which is very versatile and powerful tool for formatting of Strings. Format method in String contains curly braces {} as placeholders which can hold arguments according to position or keyword to specify the order.\n"
   ]
  },
  {
   "cell_type": "code",
   "execution_count": 7,
   "metadata": {},
   "outputs": [
    {
     "name": "stdout",
     "output_type": "stream",
     "text": [
      "Print String in default order:  Good for you\n",
      "\n",
      "Print String in Positional order:  for Good you\n",
      "\n",
      "Print String in order of Keywords:  Good for you\n"
     ]
    }
   ],
   "source": [
    "#Default order\n",
    "str1=\"{} {} {}\".format('Good','for','you')\n",
    "print(\"Print String in default order: \",str1)\n",
    "\n",
    "# Positional Formatting \n",
    "str1=\"{1} {0} {2}\".format('Good','for','you')\n",
    "print(\"\\nPrint String in Positional order: \",str1)\n",
    "\n",
    "str1=\"{g} {f} {y}\".format(g='Good', f='for', y='you')\n",
    "print(\"\\nPrint String in order of Keywords: \",str1)"
   ]
  },
  {
   "cell_type": "code",
   "execution_count": 8,
   "metadata": {},
   "outputs": [
    {
     "name": "stdout",
     "output_type": "stream",
     "text": [
      "\n",
      "Binary representation of 16 is \n",
      "10000\n",
      "\n",
      "Exponent representation of 165.6458 is \n",
      "1.656458e+02\n",
      "\n",
      "one-sixth is : \n",
      "0.17\n"
     ]
    }
   ],
   "source": [
    "# Formatting of Integers \n",
    "String1 = \"{0:b}\".format(16) \n",
    "print(\"\\nBinary representation of 16 is \") \n",
    "print(String1) \n",
    "  \n",
    "# Formatting of Floats \n",
    "String1 = \"{0:e}\".format(165.6458) \n",
    "print(\"\\nExponent representation of 165.6458 is \") \n",
    "print(String1) \n",
    "  \n",
    "# Rounding off Integers \n",
    "String1 = \"{0:.2f}\".format(1/6) \n",
    "print(\"\\none-sixth is : \") \n",
    "print(String1) "
   ]
  },
  {
   "cell_type": "markdown",
   "metadata": {},
   "source": [
    "### Alignment of string\n",
    "left (<), center (^), right(>)"
   ]
  },
  {
   "cell_type": "code",
   "execution_count": 10,
   "metadata": {},
   "outputs": [
    {
     "name": "stdout",
     "output_type": "stream",
     "text": [
      "\n",
      "Left, center and right alignment with Formatting: \n",
      "|Geeks    |   for   |Geeks|\n",
      "\n",
      " GeeksforGeeks   was founded in 2009!\n"
     ]
    }
   ],
   "source": [
    "# String alignment \n",
    "String1 = \"|{:<9}|{:^9}|{:>5}|\".format('Geeks','for','Geeks') \n",
    "print(\"\\nLeft, center and right alignment with Formatting: \") \n",
    "print(String1) \n",
    "\n",
    "# To demonstrate aligning of spaces \n",
    "String1 = \"\\n{0:^16} was founded in {1:<4}!\".format(\"GeeksforGeeks\", 2009) \n",
    "print(String1) \n"
   ]
  },
  {
   "cell_type": "code",
   "execution_count": 12,
   "metadata": {},
   "outputs": [
    {
     "name": "stdout",
     "output_type": "stream",
     "text": [
      "Formatting in 3.2f format: \n",
      "The value of Integer1 is 12.35\n",
      "\n",
      "Formatting in 3.4f format: \n",
      "The value of Integer1 is 12.3457\n"
     ]
    }
   ],
   "source": [
    "# Python Program for \n",
    "# Old Style Formatting \n",
    "# of Integers using %\n",
    "  \n",
    "Integer1 = 12.3456789\n",
    "print(\"Formatting in 3.2f format: \") \n",
    "print('The value of Integer1 is %3.2f' %Integer1) \n",
    "print(\"\\nFormatting in 3.4f format: \") \n",
    "print('The value of Integer1 is %3.4f' %Integer1) "
   ]
  },
  {
   "cell_type": "code",
   "execution_count": null,
   "metadata": {},
   "outputs": [],
   "source": []
  }
 ],
 "metadata": {
  "kernelspec": {
   "display_name": "Python 3",
   "language": "python",
   "name": "python3"
  },
  "language_info": {
   "codemirror_mode": {
    "name": "ipython",
    "version": 3
   },
   "file_extension": ".py",
   "mimetype": "text/x-python",
   "name": "python",
   "nbconvert_exporter": "python",
   "pygments_lexer": "ipython3",
   "version": "3.8.3"
  }
 },
 "nbformat": 4,
 "nbformat_minor": 4
}
