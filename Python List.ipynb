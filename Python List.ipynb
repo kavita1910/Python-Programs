{
 "cells": [
  {
   "cell_type": "markdown",
   "metadata": {},
   "source": [
    "# Python Lists\n",
    "list may contain DataTypes like Integers, Strings, as well as Objects. Lists are mutable"
   ]
  },
  {
   "cell_type": "code",
   "execution_count": 2,
   "metadata": {},
   "outputs": [
    {
     "name": "stdout",
     "output_type": "stream",
     "text": [
      "Blank list : []\n",
      "\n",
      "Creating a list of numbers :  [1, 2, 3, 4]\n",
      "\n",
      "Creating a list of strings :  Tom  Jerry\n",
      "\n",
      "Multi-dimentional list is : [['Tom', 'and'], ['Jerry']]\n"
     ]
    }
   ],
   "source": [
    "# Python program to demonstrate  \n",
    "# Creation of List\n",
    "\n",
    "List=[]\n",
    "print(\"Blank list :\",List)\n",
    "\n",
    "List=[1,2,3,4]\n",
    "print(\"\\nCreating a list of numbers : \",List)\n",
    "\n",
    "List=['Tom ','and','Jerry']\n",
    "print(\"\\nCreating a list of strings : \",List[0] , List[2])\n",
    "\n",
    "# Creating a Multi-Dimensional List \n",
    "# (By Nesting a list inside a List)\n",
    "List=[['Tom' , 'and'],['Jerry']]\n",
    "print(\"\\nMulti-dimentional list is :\",List)"
   ]
  },
  {
   "cell_type": "code",
   "execution_count": 5,
   "metadata": {},
   "outputs": [
    {
     "name": "stdout",
     "output_type": "stream",
     "text": [
      "\n",
      "List with duplicate values :  [1, 2, 3, 3, 4, 5, 5, 6, 6, 6]\n",
      "\n",
      "List with mixed values :  [1, 2, 'Tom', 8, 9, 'Jerry']\n"
     ]
    }
   ],
   "source": [
    "#creating list with numbers having duplicate values\n",
    "L1=[1,2,3,3,4,5,5,6,6,6,]\n",
    "print(\"\\nList with duplicate values : \",L1)\n",
    "\n",
    "#creating list with mixed values\n",
    "L2=[1,2,'Tom',8,9,'Jerry']\n",
    "print(\"\\nList with mixed values : \",L2)"
   ]
  },
  {
   "cell_type": "markdown",
   "metadata": {},
   "source": [
    "### Adding elements to the list\n",
    "##### Using append() method\n",
    "Only one element at a time can be added to the list by using append() method, for addition of multiple elements with the append() method, loops are used. Tuples can also be added to the List with the use of append method because tuples are immutable. Unlike Sets, Lists can also be added to the existing list with the use of append() method."
   ]
  },
  {
   "cell_type": "code",
   "execution_count": 7,
   "metadata": {},
   "outputs": [
    {
     "name": "stdout",
     "output_type": "stream",
     "text": [
      "Initial list is :  []\n",
      "\n",
      "List after adding new elements to rthe list :  [1, 2, 3, 4]\n",
      "\n",
      "List after adding number from 1-10 :  [1, 2, 3, 4, 1, 2, 3]\n",
      "\n",
      "list after adding new numbers :  [1, 2, 3, 4, 1, 2, 3, (5, 6)]\n",
      "\n",
      "New list is :  [1, 2, 3, 4, 1, 2, 3, (5, 6), ['hello', 'there!']]\n"
     ]
    }
   ],
   "source": [
    "# Python program to demonstrate  \n",
    "# Addition of elements in a List \n",
    "  \n",
    "# Creating a List\n",
    "list=[]\n",
    "print(\"Initial list is : \",list)\n",
    "\n",
    "#Addition of elements\n",
    "list.append(1)\n",
    "list.append(2)\n",
    "list.append(3)\n",
    "list.append(4)\n",
    "print(\"\\nList after adding new elements to rthe list : \",list)\n",
    "\n",
    "#adding elements to the list using iterator\n",
    "for i in range(1,4):\n",
    "    list.append(i)\n",
    "print(\"\\nList after adding number from 1-10 : \",list)\n",
    "\n",
    "#adding tuples to the list\n",
    "list.append((5,6))\n",
    "print(\"\\nlist after adding new numbers : \",list)\n",
    "\n",
    "#adding list to list\n",
    "list2=[\"hello\",\"there!\"]\n",
    "list.append(list2)\n",
    "print(\"\\nNew list is : \",list)"
   ]
  },
  {
   "cell_type": "markdown",
   "metadata": {},
   "source": [
    "### Using insert() method\n",
    "append() method only works for addition of elements at the end of the List, for addition of element at the desired position, insert() method is used. Unlike append() which takes only one argument, insert() method requires two arguments(position, value)."
   ]
  },
  {
   "cell_type": "code",
   "execution_count": 9,
   "metadata": {},
   "outputs": [
    {
     "name": "stdout",
     "output_type": "stream",
     "text": [
      "Initial list :  [1, 2, 3, 4, 5]\n",
      "New list :  ['Hello', 1, 2, 3, 4, 5, 6]\n"
     ]
    }
   ],
   "source": [
    "list=[1,2,3,4,5]\n",
    "print(\"Initial list : \",list)\n",
    "list.insert(0,'Hello')\n",
    "list.insert(6,6)\n",
    "print(\"New list : \",list)"
   ]
  },
  {
   "cell_type": "markdown",
   "metadata": {},
   "source": [
    "### Using extend() method\n",
    "Other than append() and insert() methods, there’s one more method for Addition of elements, extend(), this method is used to add multiple elements at the same time at the end of the list.\n",
    "\n",
    "Note – append() and extend() methods can only add elements at the end."
   ]
  },
  {
   "cell_type": "code",
   "execution_count": 11,
   "metadata": {},
   "outputs": [
    {
     "name": "stdout",
     "output_type": "stream",
     "text": [
      "Initial list :  [1, 2, 3, 4, 5]\n",
      "Extended list is :  [1, 2, 3, 4, 5, 6, 'hello', 'there!']\n"
     ]
    }
   ],
   "source": [
    "list=[1,2,3,4,5]\n",
    "print(\"Initial list : \",list)\n",
    "list.extend([6,'hello','there!'])\n",
    "print(\"Extended list is : \",list)"
   ]
  },
  {
   "cell_type": "markdown",
   "metadata": {},
   "source": [
    "### Accessing elements from the List\n",
    "In order to access the list items refer to the index number.Use the index operator [ ] to access an item in a list.The index must be an integer.Nested list are accessed using nested indexing."
   ]
  },
  {
   "cell_type": "code",
   "execution_count": 12,
   "metadata": {},
   "outputs": [
    {
     "name": "stdout",
     "output_type": "stream",
     "text": [
      "accessing elements from the list : \n",
      "Hello\n",
      "Beautiful\n",
      "Accessing elements from the list : \n",
      "Day!\n",
      "hello\n"
     ]
    }
   ],
   "source": [
    "list=['Hello','Beautiful','Day!']\n",
    "print(\"accessing elements from the list : \")\n",
    "print(list[0])\n",
    "print(list[1])\n",
    "\n",
    "# Creating a Multi-Dimensional List \n",
    "# (By Nesting a list inside a List)\n",
    "list=[['Beautiful','Day!'],['hello']]\n",
    "print(\"Accessing elements from the list : \")\n",
    "print(list[0][1])\n",
    "print(list[1][0])"
   ]
  },
  {
   "cell_type": "markdown",
   "metadata": {},
   "source": [
    "### Negative indexing\n",
    "In Python, negative sequence indexes represent positions from the end of the array"
   ]
  },
  {
   "cell_type": "code",
   "execution_count": 14,
   "metadata": {},
   "outputs": [
    {
     "name": "stdout",
     "output_type": "stream",
     "text": [
      "list using negative indexing : \n",
      "Work\n",
      "Hard\n"
     ]
    }
   ],
   "source": [
    "list=[1,2,3,'Hard',4,'a',5,'Work']\n",
    "print(\"list using negative indexing : \")\n",
    "print(list[-1])\n",
    "print(list[-5])"
   ]
  },
  {
   "cell_type": "markdown",
   "metadata": {},
   "source": [
    "### Using remove() method\n",
    "Elements can be removed from the List by using built-in remove() function but an Error arises if element doesn’t exist in the set. Remove() method only removes one element at a time, to remove range of elements, iterator is used. The remove() method removes the specified item."
   ]
  },
  {
   "cell_type": "code",
   "execution_count": 16,
   "metadata": {},
   "outputs": [
    {
     "name": "stdout",
     "output_type": "stream",
     "text": [
      "initial list :  [1, 2, 3, 4, 5, 6, 7, 8, 9, 10]\n",
      "\n",
      "List after deleting some elements :  [1, 2, 3, 4, 6, 7, 8, 9]\n",
      "\n",
      "New list :  [3, 4, 6, 7, 8, 9]\n"
     ]
    }
   ],
   "source": [
    "list=[1,2,3,4,5,6,7,8,9,10]\n",
    "print(\"initial list : \",list)\n",
    "list.remove(5)\n",
    "list.remove(10)\n",
    "print(\"\\nList after deleting some elements : \",list)\n",
    "for i in range(1,3):\n",
    "    list.remove(i)\n",
    "print(\"\\nNew list : \",list)"
   ]
  },
  {
   "cell_type": "markdown",
   "metadata": {},
   "source": [
    "### Using pop() method\n",
    "Pop() function can also be used to remove and return an element from the set, but by default it removes only the last element of the set, to remove element from a specific position of the List, index of the element is passed as an argument to the pop() method."
   ]
  },
  {
   "cell_type": "code",
   "execution_count": 18,
   "metadata": {},
   "outputs": [
    {
     "name": "stdout",
     "output_type": "stream",
     "text": [
      "initial list :  [1, 2, 3, 4, 5, 6]\n",
      "\n",
      "new list :  [1, 2, 3, 4, 5]\n",
      "\n",
      "list :  [1, 2, 4, 5]\n"
     ]
    }
   ],
   "source": [
    "list=[1,2,3,4,5,6]\n",
    "print(\"initial list : \",list)\n",
    "list.pop()\n",
    "print(\"\\nnew list : \",list)\n",
    "list.pop(2)\n",
    "print(\"\\nlist : \",list)"
   ]
  },
  {
   "cell_type": "markdown",
   "metadata": {},
   "source": [
    "### Slicing of a List"
   ]
  },
  {
   "cell_type": "markdown",
   "metadata": {},
   "source": [
    "Slice operation is performed on Lists with the use of a colon(:). To print elements from beginning to a range use [: Index], to print elements from end-use [:-Index], to print elements from specific Index till the end use [Index:], to print elements within a range, use [Start Index:End Index] and to print the whole List with the use of slicing operation, use [:]. Further, to print the whole List in reverse order, use [::-1]."
   ]
  },
  {
   "cell_type": "code",
   "execution_count": 19,
   "metadata": {},
   "outputs": [
    {
     "name": "stdout",
     "output_type": "stream",
     "text": [
      "Initial list :  ['A', 'B', 'C', 'D', 'E', 'F', 'G', 'H', 'I', 'J']\n",
      "\n",
      "sliced list is :  ['C', 'D', 'E', 'F']\n",
      "\n",
      "sliced list is :  ['F', 'G', 'H', 'I', 'J']\n",
      "\n",
      "sliced list is :  ['A', 'B', 'C', 'D', 'E', 'F', 'G', 'H', 'I']\n",
      "\n",
      "sliced list is :  ['A', 'B', 'C', 'D', 'E', 'F', 'G', 'H', 'I', 'J']\n"
     ]
    }
   ],
   "source": [
    "list=['A','B','C','D','E','F','G','H','I','J']\n",
    "print(\"Initial list : \",list)\n",
    "\n",
    "# Print elements of a range\n",
    "sliced_list=list[2:6]\n",
    "print(\"\\nsliced list is : \",sliced_list)\n",
    "\n",
    "sliced_list=list[5:]\n",
    "print(\"\\nsliced list is : \",sliced_list)\n",
    "\n",
    "sliced_list=list[:-1]\n",
    "print(\"\\nsliced list is : \",sliced_list)\n",
    "\n",
    "sliced_list=list[:]\n",
    "print(\"\\nsliced list is : \",sliced_list)"
   ]
  },
  {
   "cell_type": "code",
   "execution_count": 20,
   "metadata": {},
   "outputs": [
    {
     "name": "stdout",
     "output_type": "stream",
     "text": [
      "Initial list :  ['A', 'B', 'C', 'D', 'E', 'F', 'G', 'H', 'I', 'J']\n",
      "\n",
      "sliced list is :  ['A', 'B', 'C', 'D']\n",
      "\n",
      "sliced list is :  ['E', 'F', 'G', 'H', 'I']\n",
      "\n",
      "sliced list is :  ['J', 'I', 'H', 'G', 'F', 'E', 'D', 'C', 'B', 'A']\n"
     ]
    }
   ],
   "source": [
    "list=['A','B','C','D','E','F','G','H','I','J']\n",
    "print(\"Initial list : \",list)\n",
    "\n",
    "sliced_list=list[:-6]\n",
    "print(\"\\nsliced list is : \",sliced_list)\n",
    "\n",
    "sliced_list=list[-6:-1]\n",
    "print(\"\\nsliced list is : \",sliced_list)\n",
    "\n",
    "# Printing elements in reverse\n",
    "sliced_list=list[::-1]\n",
    "print(\"\\nsliced list is : \",sliced_list)"
   ]
  },
  {
   "cell_type": "code",
   "execution_count": 21,
   "metadata": {},
   "outputs": [],
   "source": [
    "#Clear()\tRemoves all items from the list\n",
    "#Index()\tReturns the index of the first matched item\n",
    "#Count()\tReturns the count of number of items passed as an argument\n",
    "#Sort()\tSort items in a list in ascending order\n",
    "#Reverse()\tReverse the order of items in the list\n",
    "#copy()\tReturns a copy of the list"
   ]
  },
  {
   "cell_type": "markdown",
   "metadata": {},
   "source": [
    "### floor()\n",
    "floor() method in Python returns floor of x i.e., the largest integer not greater than x."
   ]
  },
  {
   "cell_type": "code",
   "execution_count": 22,
   "metadata": {},
   "outputs": [],
   "source": [
    "#Syntax:\n",
    "#import math\n",
    "#math.floor(x)"
   ]
  },
  {
   "cell_type": "code",
   "execution_count": 24,
   "metadata": {},
   "outputs": [
    {
     "name": "stdout",
     "output_type": "stream",
     "text": [
      "math.floor(-23.11) :  -24\n",
      "math.floor(300.16) :  300\n",
      "math.floor(300.72) :  300\n"
     ]
    }
   ],
   "source": [
    "import math\n",
    "# prints the ceil using floor() method \n",
    "print( \"math.floor(-23.11) : \", math.floor(-23.11) )\n",
    "print( \"math.floor(300.16) : \", math.floor(300.16) )\n",
    "print (\"math.floor(300.72) : \", math.floor(300.72))"
   ]
  },
  {
   "cell_type": "markdown",
   "metadata": {},
   "source": [
    "### ceil()\n",
    "The method ceil() in Python returns ceiling value of x i.e., the smallest integer not less than x."
   ]
  },
  {
   "cell_type": "code",
   "execution_count": 25,
   "metadata": {},
   "outputs": [],
   "source": [
    "#Syntax: \n",
    "#import math\n",
    "#math.ceil(x)"
   ]
  },
  {
   "cell_type": "code",
   "execution_count": 27,
   "metadata": {},
   "outputs": [
    {
     "name": "stdout",
     "output_type": "stream",
     "text": [
      "math.ceil(-23.11) :  -23\n",
      "math.ceil(300.16) :  301\n",
      "math.ceil(300.72) :  301\n"
     ]
    }
   ],
   "source": [
    "import math    \n",
    "  \n",
    "# prints the ceil using ceil() method \n",
    "print( \"math.ceil(-23.11) : \", math.ceil(-23.11))\n",
    "print (\"math.ceil(300.16) : \", math.ceil(300.16) )\n",
    "print (\"math.ceil(300.72) : \", math.ceil(300.72))"
   ]
  },
  {
   "cell_type": "markdown",
   "metadata": {},
   "source": [
    "### round() function in Python\n",
    "Last Updated: 20-08-2020\n",
    "Python provides an inbuilt function round() which rounds off to the given number of digits and returns the floating point number, if no number of digits is provided for round off , it rounds off the number to the nearest integer."
   ]
  },
  {
   "cell_type": "code",
   "execution_count": 28,
   "metadata": {},
   "outputs": [
    {
     "name": "stdout",
     "output_type": "stream",
     "text": [
      "15\n",
      "52\n",
      "52\n",
      "51\n"
     ]
    }
   ],
   "source": [
    "#Syntax: round(number, number of digits)\n",
    "print(round(15))\n",
    " \n",
    "# for floating point\n",
    "print(round(51.6)) \n",
    " \n",
    " \n",
    "print(round(51.5))  \n",
    " \n",
    "print(round(51.4)) "
   ]
  },
  {
   "cell_type": "code",
   "execution_count": 29,
   "metadata": {},
   "outputs": [
    {
     "name": "stdout",
     "output_type": "stream",
     "text": [
      "2.67\n",
      "2.68\n",
      "2.67\n"
     ]
    }
   ],
   "source": [
    "# when the (ndigit+1)th digit is =5\n",
    "print(round(2.665, 2))\n",
    " \n",
    "# when the (ndigit+1)th digit is >=5\n",
    "print(round(2.676, 2))  \n",
    " \n",
    "# when the (ndigit+1)th digit is <5 \n",
    "print(round(2.673, 2))  "
   ]
  },
  {
   "cell_type": "code",
   "execution_count": 30,
   "metadata": {},
   "outputs": [
    {
     "name": "stdout",
     "output_type": "stream",
     "text": [
      "0.3333333333333333\n",
      "0.33\n"
     ]
    }
   ],
   "source": [
    "# practical application\n",
    "b = 1/3\n",
    "print(b)\n",
    "print(round(b, 2)) "
   ]
  },
  {
   "cell_type": "code",
   "execution_count": null,
   "metadata": {},
   "outputs": [],
   "source": []
  }
 ],
 "metadata": {
  "kernelspec": {
   "display_name": "Python 3",
   "language": "python",
   "name": "python3"
  },
  "language_info": {
   "codemirror_mode": {
    "name": "ipython",
    "version": 3
   },
   "file_extension": ".py",
   "mimetype": "text/x-python",
   "name": "python",
   "nbconvert_exporter": "python",
   "pygments_lexer": "ipython3",
   "version": "3.8.3"
  }
 },
 "nbformat": 4,
 "nbformat_minor": 4
}
