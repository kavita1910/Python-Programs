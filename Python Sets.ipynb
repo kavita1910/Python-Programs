{
 "cells": [
  {
   "cell_type": "markdown",
   "metadata": {},
   "source": [
    "# Python Sets\n",
    "In Python, Set is an unordered collection of data type that is iterable, mutable and has no duplicate elements. The order of elements in a set is undefined though it may consist of various elements.\n",
    "\n",
    "The major advantage of using a set, as opposed to a list, is that it has a highly optimized method for checking whether a specific element is contained in the set.\n",
    "\n",
    "Sets can be created by using the built-in set() function with an iterable object or a sequence by placing the sequence inside curly braces, separated by ‘comma’."
   ]
  },
  {
   "cell_type": "code",
   "execution_count": 1,
   "metadata": {},
   "outputs": [
    {
     "name": "stdout",
     "output_type": "stream",
     "text": [
      "Blank set :  set()\n",
      "\n",
      "Creating a set using a string :  {'d', 'o', 'H', ' ', 'r', '!', 'W', 'l', 'e'}\n",
      "\n",
      "Creating set w the use of a constructor :  {'d', 'o', 'H', ' ', 'r', '!', 'w', 'l', 'e'}\n",
      "\n",
      "Creating a set with the use of list :  {1, 3.14, 'hello', 23}\n"
     ]
    }
   ],
   "source": [
    "#Creating a set\n",
    "set1 = set()\n",
    "print(\"Blank set : \", set1)\n",
    "\n",
    "#creating a set using string\n",
    "set1 = set(\"Hello World!\")\n",
    "print(\"\\nCreating a set using a string : \",set1)\n",
    "\n",
    "#creating a set with the use of a constructor\n",
    "string = 'Hello world!'\n",
    "set1 = set(string)\n",
    "print(\"\\nCreating set w the use of a constructor : \",set1)\n",
    "\n",
    "#creating a set with the use of list\n",
    "set1= set([1, 'hello', 23, 3.14])\n",
    "print(\"\\nCreating a set with the use of list : \",set1)"
   ]
  },
  {
   "cell_type": "markdown",
   "metadata": {},
   "source": [
    "### Adding Elements to a Set\n",
    "Using add() method\n",
    "Only one element at a time can be added to the set by using add() method, loops are used to add multiple elements at a time with the use of add() method.\n",
    "\n",
    "Note – Lists cannot be added to a set as elements because Lists are not hashable whereas Tuples can be added because tuples are immutable and hence Hashable."
   ]
  },
  {
   "cell_type": "code",
   "execution_count": 2,
   "metadata": {},
   "outputs": [
    {
     "name": "stdout",
     "output_type": "stream",
     "text": [
      "Blank set :  set()\n",
      "\n",
      "elements added to the list :  {8, 9, (6, 7)}\n",
      "\n",
      "set after adding elements using iterator :  {0, 1, 2, 3, 4, 5, 8, 9, (6, 7)}\n"
     ]
    }
   ],
   "source": [
    "set1 = set()\n",
    "print(\"Blank set : \", set1)\n",
    "\n",
    "#adding element and tuple to the set\n",
    "set1.add(8)\n",
    "set1.add(9)\n",
    "set1.add((6,7))\n",
    "print(\"\\nelements added to the list : \",set1)\n",
    "\n",
    "#adding elements to the set using iterator\n",
    "for i in range(0,6):\n",
    "    set1.add(i)\n",
    "print(\"\\nset after adding elements using iterator : \",set1)"
   ]
  },
  {
   "cell_type": "markdown",
   "metadata": {},
   "source": [
    "### Using update() method\n",
    "For addition of two or more elements Update() method is used. The update() method accepts lists, strings, tuples as well as other sets as its arguments. In all of these cases, duplicate elements are avoided."
   ]
  },
  {
   "cell_type": "code",
   "execution_count": 7,
   "metadata": {},
   "outputs": [
    {
     "name": "stdout",
     "output_type": "stream",
     "text": [
      "Updated set is :  {1, 2, 3, 4, 5, (6, 7)}\n"
     ]
    }
   ],
   "source": [
    "set1 = set([1,2,3,(6,7)])\n",
    "set1.update([4,5])\n",
    "print(\"Updated set is : \",set1)"
   ]
  },
  {
   "cell_type": "markdown",
   "metadata": {},
   "source": [
    "### Accessing a Set\n",
    "Set items cannot be accessed by referring to an index, since sets are unordered the items has no index. But you can loop through the set items using a for loop, or ask if a specified value is present in a set, by using the in keyword."
   ]
  },
  {
   "cell_type": "code",
   "execution_count": 8,
   "metadata": {},
   "outputs": [
    {
     "name": "stdout",
     "output_type": "stream",
     "text": [
      "Initial set :  {'box', 'hand', 'the', 'me'}\n",
      "\n",
      "Elements in the set : \n",
      "box\n",
      "hand\n",
      "the\n",
      "me\n",
      "True\n"
     ]
    }
   ],
   "source": [
    "set1 = set(['hand','me','the','box'])\n",
    "print(\"Initial set : \",set1)\n",
    "\n",
    "#accessing elements using for loops\n",
    "print(\"\\nElements in the set : \")\n",
    "for i in set1:\n",
    "    print(i)\n",
    "\n",
    "print(\"me\" in set1)"
   ]
  },
  {
   "cell_type": "markdown",
   "metadata": {},
   "source": [
    "### Removing elements from the Set\n",
    "Using remove() method or discard() method\n",
    "Elements can be removed from the Set by using built-in remove() function but a KeyError arises if element doesn’t exist in the set. To remove elements from a set without KeyError, use discard(), if the element doesn’t exist in the set, it remains unchanged."
   ]
  },
  {
   "cell_type": "code",
   "execution_count": 10,
   "metadata": {},
   "outputs": [
    {
     "name": "stdout",
     "output_type": "stream",
     "text": [
      "Initial set is :  {1, 2, 3, 4, 5, 6, 7, 8, 9, 10}\n",
      "\n",
      "Set after removing the elements :  {1, 2, 3, 4, 6, 7, 9, 10}\n",
      "\n",
      "Set after removing the elements :  {1, 2, 3, 4, 6, 10}\n",
      "\n",
      "Set :  {6, 10}\n"
     ]
    }
   ],
   "source": [
    "set1 = set([1,2,3,4,5,6,7,8,9,10])\n",
    "print(\"Initial set is : \",set1)\n",
    "\n",
    "set1.remove(5)\n",
    "set1.remove(8)\n",
    "print(\"\\nSet after removing the elements : \",set1)\n",
    "\n",
    "set1.discard(9)\n",
    "set1.discard(7)\n",
    "print(\"\\nSet after removing the elements : \",set1)\n",
    "\n",
    "for i in range(1,5):\n",
    "    set1.remove(i)\n",
    "print(\"\\nSet : \",set1)    "
   ]
  },
  {
   "cell_type": "markdown",
   "metadata": {},
   "source": [
    "### Using pop() method\n",
    "Pop() function can also be used to remove and return an element from the set, but it removes only the last element of the set."
   ]
  },
  {
   "cell_type": "code",
   "execution_count": 11,
   "metadata": {},
   "outputs": [
    {
     "name": "stdout",
     "output_type": "stream",
     "text": [
      "Initial set is :  {1, 2, 3, 4, 5, 6, 7, 8, 9, 10}\n",
      "Set after popping the elements is :  {2, 3, 4, 5, 6, 7, 8, 9, 10}\n"
     ]
    }
   ],
   "source": [
    "set1 = set([1,2,3,4,5,6,7,8,9,10])\n",
    "print(\"Initial set is : \",set1)\n",
    "set1.pop()\n",
    "print(\"Set after popping the elements is : \",set1)"
   ]
  },
  {
   "cell_type": "markdown",
   "metadata": {},
   "source": [
    "### Using clear() method\n",
    "To remove all the elements from the set, clear() function is used."
   ]
  },
  {
   "cell_type": "code",
   "execution_count": 12,
   "metadata": {},
   "outputs": [
    {
     "name": "stdout",
     "output_type": "stream",
     "text": [
      "Initial set is :  {1, 2, 3, 4, 5, 6, 7, 8, 9, 10}\n",
      "Set after clearing the elements is :  set()\n"
     ]
    }
   ],
   "source": [
    "set1 = set([1,2,3,4,5,6,7,8,9,10])\n",
    "print(\"Initial set is : \",set1)\n",
    "set1.clear()\n",
    "print(\"Set after clearing the elements is : \",set1)"
   ]
  },
  {
   "cell_type": "code",
   "execution_count": 13,
   "metadata": {},
   "outputs": [
    {
     "ename": "TypeError",
     "evalue": "'str' object is not callable",
     "output_type": "error",
     "traceback": [
      "\u001b[1;31m---------------------------------------------------------------------------\u001b[0m",
      "\u001b[1;31mTypeError\u001b[0m                                 Traceback (most recent call last)",
      "\u001b[1;32m<ipython-input-13-9414ec3c0b7b>\u001b[0m in \u001b[0;36m<module>\u001b[1;34m\u001b[0m\n\u001b[1;32m----> 1\u001b[1;33m \u001b[0mstring\u001b[0m\u001b[1;33m(\u001b[0m\u001b[1;34m'h'\u001b[0m\u001b[1;33m,\u001b[0m\u001b[1;34m'e'\u001b[0m\u001b[1;33m,\u001b[0m\u001b[1;34m'l'\u001b[0m\u001b[1;33m,\u001b[0m\u001b[1;34m'l'\u001b[0m\u001b[1;33m,\u001b[0m\u001b[1;34m'o'\u001b[0m\u001b[1;33m,\u001b[0m\u001b[1;34m'w'\u001b[0m\u001b[1;33m,\u001b[0m\u001b[1;34m'o'\u001b[0m\u001b[1;33m,\u001b[0m\u001b[1;34m'r'\u001b[0m\u001b[1;33m,\u001b[0m\u001b[1;34m'l'\u001b[0m\u001b[1;33m,\u001b[0m\u001b[1;34m'd'\u001b[0m\u001b[1;33m)\u001b[0m\u001b[1;33m\u001b[0m\u001b[1;33m\u001b[0m\u001b[0m\n\u001b[0m\u001b[0;32m      2\u001b[0m \u001b[0mfset\u001b[0m\u001b[1;33m=\u001b[0m\u001b[0mfrozenset\u001b[0m\u001b[1;33m(\u001b[0m\u001b[0mstring\u001b[0m\u001b[1;33m)\u001b[0m\u001b[1;33m\u001b[0m\u001b[1;33m\u001b[0m\u001b[0m\n\u001b[0;32m      3\u001b[0m \u001b[0mprint\u001b[0m\u001b[1;33m(\u001b[0m\u001b[1;34m\"The frozen set is : \"\u001b[0m\u001b[1;33m,\u001b[0m\u001b[0mfset\u001b[0m\u001b[1;33m)\u001b[0m\u001b[1;33m\u001b[0m\u001b[1;33m\u001b[0m\u001b[0m\n",
      "\u001b[1;31mTypeError\u001b[0m: 'str' object is not callable"
     ]
    }
   ],
   "source": [
    "string('h','e','l','l','o','w','o','r','l','d')\n",
    "fset=frozenset(string)\n",
    "print(\"The frozen set is : \",fset)"
   ]
  },
  {
   "cell_type": "markdown",
   "metadata": {},
   "source": [
    "### intersection() function\n",
    "The intersection() function returns a set, which has the intersection of all sets(set1, set2, set3…) with set1.\n",
    "It returns a copy of set1 only if no parameter is passed."
   ]
  },
  {
   "cell_type": "code",
   "execution_count": 14,
   "metadata": {},
   "outputs": [
    {
     "name": "stdout",
     "output_type": "stream",
     "text": [
      "Intersection of set1 and set2 :  {4, 6}\n",
      "Intersection of three sets :  {4, 6}\n"
     ]
    }
   ],
   "source": [
    "set1 = {2, 4, 5, 6}  \n",
    "set2 = {4, 6, 7, 8}  \n",
    "set3 = {4,6,8}\n",
    "print(\"Intersection of set1 and set2 : \", set1.intersection(set2))\n",
    "print(\"Intersection of three sets : \", set1.intersection(set2,set3))"
   ]
  },
  {
   "cell_type": "markdown",
   "metadata": {},
   "source": [
    "### isdisjoint() function\n",
    "Two sets are said to be disjoint when their intersection is null. In simple words they do not have any common element in between them."
   ]
  },
  {
   "cell_type": "code",
   "execution_count": 15,
   "metadata": {},
   "outputs": [
    {
     "name": "stdout",
     "output_type": "stream",
     "text": [
      "set1 and set2 are disjoint? True\n",
      "set1 and set3 are disjoint? False\n"
     ]
    }
   ],
   "source": [
    "set1 = {2, 4, 5, 6}  \n",
    "set2 = {7, 8, 9, 10} \n",
    "set3 = {1, 2} \n",
    "  \n",
    "  \n",
    "#checking of disjoint of two sets \n",
    "print(\"set1 and set2 are disjoint?\", set1.isdisjoint(set2)) \n",
    "  \n",
    "print(\"set1 and set3 are disjoint?\", set1.isdisjoint(set3)) "
   ]
  },
  {
   "cell_type": "markdown",
   "metadata": {},
   "source": [
    "### subset() function\n",
    "The issubset() method returns True if all elements of a set A are present in another set B which is passed as an argument and returns false if all elements not present."
   ]
  },
  {
   "cell_type": "code",
   "execution_count": 16,
   "metadata": {},
   "outputs": [
    {
     "name": "stdout",
     "output_type": "stream",
     "text": [
      "True\n",
      "False\n"
     ]
    }
   ],
   "source": [
    "A = {4, 1, 3, 5} \n",
    "B = {6, 0, 4, 1, 5, 0, 3, 5} \n",
    "  \n",
    "# Returns True \n",
    "print(A.issubset(B)) \n",
    "  \n",
    "# Returns False \n",
    "# B is not subset of A \n",
    "print(B.issubset(A)) "
   ]
  },
  {
   "cell_type": "code",
   "execution_count": null,
   "metadata": {},
   "outputs": [],
   "source": []
  }
 ],
 "metadata": {
  "kernelspec": {
   "display_name": "Python 3",
   "language": "python",
   "name": "python3"
  },
  "language_info": {
   "codemirror_mode": {
    "name": "ipython",
    "version": 3
   },
   "file_extension": ".py",
   "mimetype": "text/x-python",
   "name": "python",
   "nbconvert_exporter": "python",
   "pygments_lexer": "ipython3",
   "version": "3.8.3"
  }
 },
 "nbformat": 4,
 "nbformat_minor": 4
}
