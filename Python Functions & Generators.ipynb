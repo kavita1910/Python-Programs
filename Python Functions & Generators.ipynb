{
 "cells": [
  {
   "cell_type": "code",
   "execution_count": 1,
   "metadata": {},
   "outputs": [
    {
     "name": "stdout",
     "output_type": "stream",
     "text": [
      "First arg :  Hello\n",
      "Next arg through argv :  From\n",
      "Next arg through argv :  the\n",
      "Next arg through argv :  other\n",
      "Next arg through argv :  side\n"
     ]
    }
   ],
   "source": [
    "def myfunc(arg1, *argv):\n",
    "    print(\"First arg : \", arg1)\n",
    "    for arg in argv:\n",
    "        print(\"Next arg through argv : \", arg)\n",
    "myfunc('Hello','From','the','other','side')"
   ]
  },
  {
   "cell_type": "code",
   "execution_count": 6,
   "metadata": {},
   "outputs": [
    {
     "ename": "SyntaxError",
     "evalue": "invalid syntax (<ipython-input-6-8e819e96fe09>, line 3)",
     "output_type": "error",
     "traceback": [
      "\u001b[1;36m  File \u001b[1;32m\"<ipython-input-6-8e819e96fe09>\"\u001b[1;36m, line \u001b[1;32m3\u001b[0m\n\u001b[1;33m    print(\"%s == %s\", %(key, value))\u001b[0m\n\u001b[1;37m                      ^\u001b[0m\n\u001b[1;31mSyntaxError\u001b[0m\u001b[1;31m:\u001b[0m invalid syntax\n"
     ]
    }
   ],
   "source": [
    "def myfunc(arg1, **kwargs):\n",
    "    for key, value in kwargs.items():\n",
    "        print(\"%s == %s\", %(key, value))\n",
    "myfunc(\"Hi\", first='Welcome', mid='To', last='Python')"
   ]
  },
  {
   "cell_type": "markdown",
   "metadata": {},
   "source": [
    "### Using *args and **kwargs to call a function"
   ]
  },
  {
   "cell_type": "code",
   "execution_count": 7,
   "metadata": {},
   "outputs": [
    {
     "name": "stdout",
     "output_type": "stream",
     "text": [
      "arg1 :  All\n",
      "arg2 :  The\n",
      "arg3 :  Best\n",
      "arg1 :  All\n",
      "arg2 :  The\n",
      "arg3 :  Best\n"
     ]
    }
   ],
   "source": [
    "def myfunc(arg1, arg2, arg3):\n",
    "    print(\"arg1 : \",arg1)\n",
    "    print(\"arg2 : \",arg2)\n",
    "    print(\"arg3 : \",arg3)\n",
    "args = (\"All\",\"The\",\"Best\")\n",
    "myfunc(*args)\n",
    "kwargs = {\"arg1\":\"All\", \"arg2\":\"The\",\"arg3\":\"Best\"}\n",
    "myfunc(**kwargs)"
   ]
  },
  {
   "cell_type": "code",
   "execution_count": 8,
   "metadata": {},
   "outputs": [
    {
     "name": "stdout",
     "output_type": "stream",
     "text": [
      "args :  ('All', 'The', 'Best')\n",
      "kwargs :  {'first': 'For', 'mid': 'Your', 'last': 'Exam'}\n"
     ]
    }
   ],
   "source": [
    "#Using *args and **kwargs in same line to call a function\n",
    "def myfunc(*args, **kwargs):\n",
    "    print(\"args : \",args)\n",
    "    print(\"kwargs : \", kwargs)\n",
    "myfunc(\"All\",\"The\",\"Best\",first=\"For\", mid=\"Your\", last=\"Exam\")"
   ]
  },
  {
   "cell_type": "markdown",
   "metadata": {},
   "source": [
    "The yield statement suspends function’s execution and sends a value back to the caller, but retains enough state to enable function to resume where it is left off. When resumed, the function continues execution immediately after the last yield run. This allows its code to produce a series of values over time, rather than computing them at once and sending them back like a list."
   ]
  },
  {
   "cell_type": "code",
   "execution_count": 9,
   "metadata": {},
   "outputs": [
    {
     "name": "stdout",
     "output_type": "stream",
     "text": [
      "1\n",
      "2\n",
      "3\n"
     ]
    }
   ],
   "source": [
    "# A Simple Python program to demonstrate working \n",
    "# of yield \n",
    "  \n",
    "# A generator function that yields 1 for the first time, \n",
    "# 2 second time and 3 third time \n",
    "def simpleGeneratorFun(): \n",
    "    yield 1\n",
    "    yield 2\n",
    "    yield 3\n",
    "  \n",
    "# Driver code to check above generator function \n",
    "for value in simpleGeneratorFun():  \n",
    "    print(value) "
   ]
  },
  {
   "cell_type": "code",
   "execution_count": 11,
   "metadata": {},
   "outputs": [
    {
     "name": "stdout",
     "output_type": "stream",
     "text": [
      "1\n",
      "4\n",
      "9\n",
      "16\n",
      "25\n",
      "36\n",
      "49\n",
      "64\n",
      "81\n",
      "100\n"
     ]
    }
   ],
   "source": [
    "#Return sends a specified value back to its caller whereas Yield can produce a sequence of values. \n",
    "#We should use yield when we want to iterate over a sequence, but don’t want to store the entire sequence in memory.\n",
    "def nextsquare():\n",
    "    i=1;\n",
    "    while True:\n",
    "        yield i*i\n",
    "        i += 1\n",
    "for num in nextsquare():\n",
    "    if num >100:\n",
    "        break\n",
    "    print(num)"
   ]
  },
  {
   "cell_type": "markdown",
   "metadata": {},
   "source": [
    "# Generators in Python\n",
    "Generator-Function : A generator-function is defined like a normal function, but whenever it needs to generate a value, it does so with the yield keyword rather than return. If the body of a def contains yield, the function automatically becomes a generator function."
   ]
  },
  {
   "cell_type": "markdown",
   "metadata": {},
   "source": [
    "# Python lambda\n",
    "lambda keyword is used to create anonymous functions. It has the following syntax:\n",
    "\n",
    "Syntax\n",
    "\n",
    "lambda arguments : expression"
   ]
  },
  {
   "cell_type": "code",
   "execution_count": 12,
   "metadata": {},
   "outputs": [
    {
     "name": "stdout",
     "output_type": "stream",
     "text": [
      "HelloWorld!\n"
     ]
    }
   ],
   "source": [
    "x = \"HelloWorld!\"\n",
    "(lambda x : print(x))(x)"
   ]
  },
  {
   "cell_type": "code",
   "execution_count": 14,
   "metadata": {},
   "outputs": [
    {
     "name": "stdout",
     "output_type": "stream",
     "text": [
      "343\n",
      "125\n"
     ]
    }
   ],
   "source": [
    "def cube(y):\n",
    "    return y*y*y\n",
    "g = lambda x: x*x*x\n",
    "print(g(7))\n",
    "\n",
    "print(cube(5))"
   ]
  },
  {
   "cell_type": "code",
   "execution_count": 2,
   "metadata": {},
   "outputs": [
    {
     "name": "stdout",
     "output_type": "stream",
     "text": [
      "Now power is set to 2\n",
      "8 to the power 2 =  64\n",
      "Now power is set to 5\n",
      "2 to the power 5 =  32\n"
     ]
    }
   ],
   "source": [
    "def power(n):\n",
    "    return lambda a : a**n\n",
    "base = power(2)\n",
    "print(\"Now power is set to 2\")\n",
    "print(\"8 to the power 2 = \", base(8))\n",
    "base = power(5)\n",
    "print(\"Now power is set to 5\")\n",
    "print(\"2 to the power 5 = \", base(2))"
   ]
  },
  {
   "cell_type": "code",
   "execution_count": 3,
   "metadata": {},
   "outputs": [
    {
     "name": "stdout",
     "output_type": "stream",
     "text": [
      "[100, 2, 8, 60, 4, 10]\n",
      "[True, True, True, True, False, True, False, False, True, False]\n"
     ]
    }
   ],
   "source": [
    "a=[100,2,8,60,5,4,3,31,10,11]\n",
    "# in filter either we use assignment or conditional operator, the pass actual parameter will get return \n",
    "filtered = filter (lambda x : x%2 ==0,a)\n",
    "print(list(filtered))\n",
    "# in map either we use assignment or conditional operator, the result of the value will get returned\n",
    "maped = map (lambda x: x % 2 == 0, a)  \n",
    "print(list(maped))"
   ]
  },
  {
   "cell_type": "markdown",
   "metadata": {},
   "source": [
    "## Global & Local Variable\n",
    "Global variables are the one that are defined and declared outside a function and we need to use them inside a function."
   ]
  },
  {
   "cell_type": "code",
   "execution_count": 4,
   "metadata": {},
   "outputs": [
    {
     "name": "stdout",
     "output_type": "stream",
     "text": [
      "Hello world\n"
     ]
    }
   ],
   "source": [
    "def f():\n",
    "    print(s)\n",
    "s=\"Hello world\"\n",
    "f()"
   ]
  },
  {
   "cell_type": "code",
   "execution_count": 6,
   "metadata": {},
   "outputs": [
    {
     "name": "stdout",
     "output_type": "stream",
     "text": [
      "Hey\n",
      "Hello World\n"
     ]
    }
   ],
   "source": [
    "def f():\n",
    "    s=\"Hey\"\n",
    "    print(s)\n",
    "s=\"Hello World\"\n",
    "f()\n",
    "print(s)\n",
    "#If a variable with the same name is defined inside the scope of function as well \n",
    "#then it will print the value given inside the function only and not the global value."
   ]
  },
  {
   "cell_type": "code",
   "execution_count": 7,
   "metadata": {},
   "outputs": [
    {
     "name": "stdout",
     "output_type": "stream",
     "text": [
      "Python is the best\n",
      "Python is great\n",
      "Python is great\n"
     ]
    }
   ],
   "source": [
    "#Any variable which is changed or created inside of a function is local if it hasn’t been declared as a global variable. \n",
    "#To tell Python, that we want to use the global variable, we have to use the keyword “global”\n",
    "def f():\n",
    "    global s\n",
    "    print(s)\n",
    "    s = \"Python is great\"\n",
    "    print(s)\n",
    "s = \"Python is the best\"\n",
    "f()\n",
    "print(s)"
   ]
  },
  {
   "cell_type": "code",
   "execution_count": 9,
   "metadata": {},
   "outputs": [
    {
     "name": "stdout",
     "output_type": "stream",
     "text": [
      "Global :  1\n",
      "Inside f() :  1\n",
      "Global :  1\n",
      "Inside g() :  2\n",
      "Global :  1\n",
      "Inside H() :  3\n"
     ]
    }
   ],
   "source": [
    "a = 1\n",
    "# Uses global because there is no local 'a'\n",
    "def f():\n",
    "    print('Inside f() : ',a)\n",
    "# Variable 'a' is redefined as a local\n",
    "def g():\n",
    "    a = 2\n",
    "    print('Inside g() : ',a)\n",
    "# Uses global keyword to modify global 'a'\n",
    "def h():\n",
    "    global a\n",
    "    a= 3\n",
    "    print('Inside H() : ',a)\n",
    "#Global scope\n",
    "print(\"Global : \",a)\n",
    "f()\n",
    "print(\"Global : \",a)\n",
    "g()\n",
    "print(\"Global : \",a)\n",
    "h()"
   ]
  },
  {
   "cell_type": "markdown",
   "metadata": {},
   "source": [
    "### Global in Nested functions\n",
    "In order to use global inside a nested functions, we have to declare a variable with global keyword inside a nested function"
   ]
  },
  {
   "cell_type": "code",
   "execution_count": 13,
   "metadata": {},
   "outputs": [
    {
     "name": "stdout",
     "output_type": "stream",
     "text": [
      "Before making change :  15\n",
      "Making change \n",
      "After making change :  15\n",
      "Value of x :  20\n"
     ]
    }
   ],
   "source": [
    "def add():\n",
    "    x = 15\n",
    "    \n",
    "    def change():\n",
    "        global x\n",
    "        x = 20\n",
    "    print(\"Before making change : \",x)\n",
    "    print(\"Making change \")\n",
    "    change()\n",
    "    print(\"After making change : \",x)\n",
    "add()\n",
    "print(\"Value of x : \",x)\n",
    "#In the above example Before and after making change(), the variable x takes the value of local variable i.e x = 15. \n",
    "#Outside of the add() function, the variable x will take value defined in the change() function i.e x = 20.\n",
    "#because we have used global keyword in x to create global variable inside the change() function (local scope)."
   ]
  },
  {
   "cell_type": "code",
   "execution_count": null,
   "metadata": {},
   "outputs": [],
   "source": []
  }
 ],
 "metadata": {
  "kernelspec": {
   "display_name": "Python 3",
   "language": "python",
   "name": "python3"
  },
  "language_info": {
   "codemirror_mode": {
    "name": "ipython",
    "version": 3
   },
   "file_extension": ".py",
   "mimetype": "text/x-python",
   "name": "python",
   "nbconvert_exporter": "python",
   "pygments_lexer": "ipython3",
   "version": "3.8.3"
  }
 },
 "nbformat": 4,
 "nbformat_minor": 4
}
